{
 "cells": [
  {
   "cell_type": "markdown",
   "metadata": {},
   "source": [
    "# pandas Assignment_2"
   ]
  },
  {
   "cell_type": "markdown",
   "metadata": {},
   "source": [
    "## How to import only specified columns from a csv file?"
   ]
  },
  {
   "cell_type": "code",
   "execution_count": 1,
   "metadata": {},
   "outputs": [],
   "source": [
    "import pandas as pd"
   ]
  },
  {
   "cell_type": "code",
   "execution_count": 3,
   "metadata": {},
   "outputs": [
    {
     "name": "stdout",
     "output_type": "stream",
     "text": [
      "            make   body-style engine-type  city-mpg  highway-mpg\n",
      "0    alfa-romero  convertible        dohc        21           27\n",
      "1    alfa-romero  convertible        dohc        21           27\n",
      "2    alfa-romero    hatchback        ohcv        19           26\n",
      "3           audi        sedan         ohc        24           30\n",
      "4           audi        sedan         ohc        18           22\n",
      "..           ...          ...         ...       ...          ...\n",
      "200        volvo        sedan         ohc        23           28\n",
      "201        volvo        sedan         ohc        19           25\n",
      "202        volvo        sedan        ohcv        18           23\n",
      "203        volvo        sedan         ohc        26           27\n",
      "204        volvo        sedan         ohc        19           25\n",
      "\n",
      "[205 rows x 5 columns]\n"
     ]
    }
   ],
   "source": [
    "cars = pd.read_csv(\"cars.csv\", usecols = ['make','body-style','engine-type','city-mpg','highway-mpg'])\n",
    "print(cars)"
   ]
  },
  {
   "cell_type": "code",
   "execution_count": null,
   "metadata": {},
   "outputs": [],
   "source": []
  }
 ],
 "metadata": {
  "kernelspec": {
   "display_name": "Python 3",
   "language": "python",
   "name": "python3"
  },
  "language_info": {
   "codemirror_mode": {
    "name": "ipython",
    "version": 3
   },
   "file_extension": ".py",
   "mimetype": "text/x-python",
   "name": "python",
   "nbconvert_exporter": "python",
   "pygments_lexer": "ipython3",
   "version": "3.7.6"
  }
 },
 "nbformat": 4,
 "nbformat_minor": 4
}
