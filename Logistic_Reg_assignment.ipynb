{
 "cells": [
  {
   "cell_type": "markdown",
   "metadata": {},
   "source": [
    "## Logistic Regression with Dataset \"Salary\""
   ]
  },
  {
   "cell_type": "code",
   "execution_count": 1,
   "metadata": {},
   "outputs": [],
   "source": [
    "import numpy as np\n",
    "import pandas as pd\n",
    "import matplotlib.pyplot as plt\n",
    "import seaborn as sns\n",
    "from sklearn.model_selection import train_test_split\n",
    "from sklearn import preprocessing"
   ]
  },
  {
   "cell_type": "code",
   "execution_count": 2,
   "metadata": {},
   "outputs": [
    {
     "data": {
      "text/html": [
       "<div>\n",
       "<style scoped>\n",
       "    .dataframe tbody tr th:only-of-type {\n",
       "        vertical-align: middle;\n",
       "    }\n",
       "\n",
       "    .dataframe tbody tr th {\n",
       "        vertical-align: top;\n",
       "    }\n",
       "\n",
       "    .dataframe thead th {\n",
       "        text-align: right;\n",
       "    }\n",
       "</style>\n",
       "<table border=\"1\" class=\"dataframe\">\n",
       "  <thead>\n",
       "    <tr style=\"text-align: right;\">\n",
       "      <th></th>\n",
       "      <th>Unnamed: 0</th>\n",
       "      <th>age</th>\n",
       "      <th>Workclass</th>\n",
       "      <th>fnlwgt</th>\n",
       "      <th>education</th>\n",
       "      <th>education-num</th>\n",
       "      <th>marital-status</th>\n",
       "      <th>occupation</th>\n",
       "      <th>relationship</th>\n",
       "      <th>race</th>\n",
       "      <th>sex</th>\n",
       "      <th>capital-gain</th>\n",
       "      <th>capital-loss</th>\n",
       "      <th>hours-per-week</th>\n",
       "      <th>native-country</th>\n",
       "      <th>Income</th>\n",
       "    </tr>\n",
       "  </thead>\n",
       "  <tbody>\n",
       "    <tr>\n",
       "      <th>0</th>\n",
       "      <td>0</td>\n",
       "      <td>39</td>\n",
       "      <td>State-gov</td>\n",
       "      <td>77516</td>\n",
       "      <td>Bachelors</td>\n",
       "      <td>13</td>\n",
       "      <td>Never-married</td>\n",
       "      <td>Adm-clerical</td>\n",
       "      <td>Not-in-family</td>\n",
       "      <td>White</td>\n",
       "      <td>Male</td>\n",
       "      <td>2174</td>\n",
       "      <td>0</td>\n",
       "      <td>40</td>\n",
       "      <td>United-States</td>\n",
       "      <td>0</td>\n",
       "    </tr>\n",
       "    <tr>\n",
       "      <th>1</th>\n",
       "      <td>1</td>\n",
       "      <td>50</td>\n",
       "      <td>Self-emp-not-inc</td>\n",
       "      <td>83311</td>\n",
       "      <td>Bachelors</td>\n",
       "      <td>13</td>\n",
       "      <td>Married-civ-spouse</td>\n",
       "      <td>Exec-managerial</td>\n",
       "      <td>Husband</td>\n",
       "      <td>White</td>\n",
       "      <td>Male</td>\n",
       "      <td>0</td>\n",
       "      <td>0</td>\n",
       "      <td>13</td>\n",
       "      <td>United-States</td>\n",
       "      <td>0</td>\n",
       "    </tr>\n",
       "    <tr>\n",
       "      <th>2</th>\n",
       "      <td>2</td>\n",
       "      <td>38</td>\n",
       "      <td>Private</td>\n",
       "      <td>215646</td>\n",
       "      <td>HS-grad</td>\n",
       "      <td>9</td>\n",
       "      <td>Divorced</td>\n",
       "      <td>Handlers-cleaners</td>\n",
       "      <td>Not-in-family</td>\n",
       "      <td>White</td>\n",
       "      <td>Male</td>\n",
       "      <td>0</td>\n",
       "      <td>0</td>\n",
       "      <td>40</td>\n",
       "      <td>United-States</td>\n",
       "      <td>0</td>\n",
       "    </tr>\n",
       "    <tr>\n",
       "      <th>3</th>\n",
       "      <td>3</td>\n",
       "      <td>53</td>\n",
       "      <td>Private</td>\n",
       "      <td>234721</td>\n",
       "      <td>11th</td>\n",
       "      <td>7</td>\n",
       "      <td>Married-civ-spouse</td>\n",
       "      <td>Handlers-cleaners</td>\n",
       "      <td>Husband</td>\n",
       "      <td>Black</td>\n",
       "      <td>Male</td>\n",
       "      <td>0</td>\n",
       "      <td>0</td>\n",
       "      <td>40</td>\n",
       "      <td>United-States</td>\n",
       "      <td>0</td>\n",
       "    </tr>\n",
       "    <tr>\n",
       "      <th>4</th>\n",
       "      <td>4</td>\n",
       "      <td>28</td>\n",
       "      <td>Private</td>\n",
       "      <td>338409</td>\n",
       "      <td>Bachelors</td>\n",
       "      <td>13</td>\n",
       "      <td>Married-civ-spouse</td>\n",
       "      <td>Prof-specialty</td>\n",
       "      <td>Wife</td>\n",
       "      <td>Black</td>\n",
       "      <td>Female</td>\n",
       "      <td>0</td>\n",
       "      <td>0</td>\n",
       "      <td>40</td>\n",
       "      <td>Cuba</td>\n",
       "      <td>0</td>\n",
       "    </tr>\n",
       "  </tbody>\n",
       "</table>\n",
       "</div>"
      ],
      "text/plain": [
       "   Unnamed: 0  age          Workclass  fnlwgt   education  education-num  \\\n",
       "0           0   39          State-gov   77516   Bachelors             13   \n",
       "1           1   50   Self-emp-not-inc   83311   Bachelors             13   \n",
       "2           2   38            Private  215646     HS-grad              9   \n",
       "3           3   53            Private  234721        11th              7   \n",
       "4           4   28            Private  338409   Bachelors             13   \n",
       "\n",
       "        marital-status          occupation    relationship    race      sex  \\\n",
       "0        Never-married        Adm-clerical   Not-in-family   White     Male   \n",
       "1   Married-civ-spouse     Exec-managerial         Husband   White     Male   \n",
       "2             Divorced   Handlers-cleaners   Not-in-family   White     Male   \n",
       "3   Married-civ-spouse   Handlers-cleaners         Husband   Black     Male   \n",
       "4   Married-civ-spouse      Prof-specialty            Wife   Black   Female   \n",
       "\n",
       "   capital-gain  capital-loss  hours-per-week  native-country  Income  \n",
       "0          2174             0              40   United-States       0  \n",
       "1             0             0              13   United-States       0  \n",
       "2             0             0              40   United-States       0  \n",
       "3             0             0              40   United-States       0  \n",
       "4             0             0              40            Cuba       0  "
      ]
     },
     "execution_count": 2,
     "metadata": {},
     "output_type": "execute_result"
    }
   ],
   "source": [
    "sal = pd.read_csv('salary.csv')\n",
    "sal.head()"
   ]
  },
  {
   "cell_type": "code",
   "execution_count": 3,
   "metadata": {},
   "outputs": [
    {
     "name": "stdout",
     "output_type": "stream",
     "text": [
      "<class 'pandas.core.frame.DataFrame'>\n",
      "RangeIndex: 1032 entries, 0 to 1031\n",
      "Data columns (total 16 columns):\n",
      " #   Column          Non-Null Count  Dtype \n",
      "---  ------          --------------  ----- \n",
      " 0   Unnamed: 0      1032 non-null   int64 \n",
      " 1   age             1032 non-null   int64 \n",
      " 2   Workclass       1032 non-null   object\n",
      " 3   fnlwgt          1032 non-null   int64 \n",
      " 4   education       1032 non-null   object\n",
      " 5   education-num   1032 non-null   int64 \n",
      " 6   marital-status  1032 non-null   object\n",
      " 7   occupation      1032 non-null   object\n",
      " 8   relationship    1032 non-null   object\n",
      " 9   race            1032 non-null   object\n",
      " 10  sex             1032 non-null   object\n",
      " 11  capital-gain    1032 non-null   int64 \n",
      " 12  capital-loss    1032 non-null   int64 \n",
      " 13  hours-per-week  1032 non-null   int64 \n",
      " 14  native-country  1032 non-null   object\n",
      " 15  Income          1032 non-null   int64 \n",
      "dtypes: int64(8), object(8)\n",
      "memory usage: 129.1+ KB\n"
     ]
    }
   ],
   "source": [
    "sal.info()"
   ]
  },
  {
   "cell_type": "code",
   "execution_count": 4,
   "metadata": {},
   "outputs": [],
   "source": [
    "sal.drop('Unnamed: 0',axis = 1,inplace = True)"
   ]
  },
  {
   "cell_type": "code",
   "execution_count": 5,
   "metadata": {},
   "outputs": [
    {
     "data": {
      "image/png": "[encoded data removed]",
      "text/plain": [
       "<Figure size 432x288 with 1 Axes>"
      ]
     },
     "metadata": {
      "needs_background": "light"
     },
     "output_type": "display_data"
    }
   ],
   "source": [
    "plt.figure()\n",
    "sns.countplot(data=sal,x = 'Income')\n",
    "plt.show()"
   ]
  },
  {
   "cell_type": "code",
   "execution_count": 6,
   "metadata": {},
   "outputs": [
    {
     "data": {
      "image/png": "[encoded data removed]",
      "text/plain": [
       "<Figure size 432x288 with 1 Axes>"
      ]
     },
     "metadata": {
      "needs_background": "light"
     },
     "output_type": "display_data"
    }
   ],
   "source": [
    "plt.figure()\n",
    "sns.countplot(data=sal,x = 'Income',hue = 'Workclass')\n",
    "plt.show()"
   ]
  },
  {
   "cell_type": "code",
   "execution_count": 7,
   "metadata": {},
   "outputs": [
    {
     "data": {
      "image/png": "[encoded data removed]",
      "text/plain": [
       "<Figure size 432x288 with 1 Axes>"
      ]
     },
     "metadata": {
      "needs_background": "light"
     },
     "output_type": "display_data"
    }
   ],
   "source": [
    "plt.figure()\n",
    "sns.scatterplot(data=sal,x = 'hours-per-week',y = 'Income')\n",
    "plt.show()"
   ]
  },
  {
   "cell_type": "code",
   "execution_count": 8,
   "metadata": {},
   "outputs": [
    {
     "data": {
      "image/png": "[encoded data removed]",
      "text/plain": [
       "<Figure size 432x288 with 1 Axes>"
      ]
     },
     "metadata": {
      "needs_background": "light"
     },
     "output_type": "display_data"
    }
   ],
   "source": [
    "plt.figure()\n",
    "sns.scatterplot(data=sal,x = 'Workclass',y = 'Income')\n",
    "plt.show()"
   ]
  },
  {
   "cell_type": "code",
   "execution_count": 9,
   "metadata": {},
   "outputs": [
    {
     "data": {
      "image/png": "[encoded data removed]",
      "text/plain": [
       "<Figure size 432x288 with 1 Axes>"
      ]
     },
     "metadata": {
      "needs_background": "light"
     },
     "output_type": "display_data"
    }
   ],
   "source": [
    "plt.figure()\n",
    "sns.scatterplot(data = sal, x = 'education-num',y = 'Income')\n",
    "plt.show()\n"
   ]
  },
  {
   "cell_type": "code",
   "execution_count": 10,
   "metadata": {},
   "outputs": [
    {
     "data": {
      "image/png": "[encoded data removed]",
      "text/plain": [
       "<Figure size 432x288 with 1 Axes>"
      ]
     },
     "metadata": {
      "needs_background": "light"
     },
     "output_type": "display_data"
    }
   ],
   "source": [
    "plt.figure()\n",
    "sns.scatterplot(data = sal, x = 'capital-gain',y = 'Income')\n",
    "plt.show()\n"
   ]
  },
  {
   "cell_type": "code",
   "execution_count": 11,
   "metadata": {},
   "outputs": [
    {
     "data": {
      "image/png": "[encoded data removed]",
      "text/plain": [
       "<Figure size 432x288 with 1 Axes>"
      ]
     },
     "metadata": {
      "needs_background": "light"
     },
     "output_type": "display_data"
    }
   ],
   "source": [
    "plt.figure()\n",
    "sns.scatterplot(data = sal, x = 'age',y = 'Income')\n",
    "plt.show()"
   ]
  },
  {
   "cell_type": "code",
   "execution_count": 12,
   "metadata": {},
   "outputs": [],
   "source": [
    "sal_2 = sal[[\"age\",\"education-num\",\"capital-gain\",\"hours-per-week\"]]"
   ]
  },
  {
   "cell_type": "code",
   "execution_count": 13,
   "metadata": {},
   "outputs": [
    {
     "data": {
      "text/html": [
       "<div>\n",
       "<style scoped>\n",
       "    .dataframe tbody tr th:only-of-type {\n",
       "        vertical-align: middle;\n",
       "    }\n",
       "\n",
       "    .dataframe tbody tr th {\n",
       "        vertical-align: top;\n",
       "    }\n",
       "\n",
       "    .dataframe thead th {\n",
       "        text-align: right;\n",
       "    }\n",
       "</style>\n",
       "<table border=\"1\" class=\"dataframe\">\n",
       "  <thead>\n",
       "    <tr style=\"text-align: right;\">\n",
       "      <th></th>\n",
       "      <th>age</th>\n",
       "      <th>education-num</th>\n",
       "      <th>capital-gain</th>\n",
       "      <th>hours-per-week</th>\n",
       "      <th>Income</th>\n",
       "    </tr>\n",
       "  </thead>\n",
       "  <tbody>\n",
       "    <tr>\n",
       "      <th>0</th>\n",
       "      <td>39</td>\n",
       "      <td>13</td>\n",
       "      <td>2174</td>\n",
       "      <td>40</td>\n",
       "      <td>0</td>\n",
       "    </tr>\n",
       "    <tr>\n",
       "      <th>1</th>\n",
       "      <td>50</td>\n",
       "      <td>13</td>\n",
       "      <td>0</td>\n",
       "      <td>13</td>\n",
       "      <td>0</td>\n",
       "    </tr>\n",
       "    <tr>\n",
       "      <th>2</th>\n",
       "      <td>38</td>\n",
       "      <td>9</td>\n",
       "      <td>0</td>\n",
       "      <td>40</td>\n",
       "      <td>0</td>\n",
       "    </tr>\n",
       "    <tr>\n",
       "      <th>3</th>\n",
       "      <td>53</td>\n",
       "      <td>7</td>\n",
       "      <td>0</td>\n",
       "      <td>40</td>\n",
       "      <td>0</td>\n",
       "    </tr>\n",
       "    <tr>\n",
       "      <th>4</th>\n",
       "      <td>28</td>\n",
       "      <td>13</td>\n",
       "      <td>0</td>\n",
       "      <td>40</td>\n",
       "      <td>0</td>\n",
       "    </tr>\n",
       "    <tr>\n",
       "      <th>5</th>\n",
       "      <td>37</td>\n",
       "      <td>14</td>\n",
       "      <td>0</td>\n",
       "      <td>40</td>\n",
       "      <td>0</td>\n",
       "    </tr>\n",
       "    <tr>\n",
       "      <th>6</th>\n",
       "      <td>49</td>\n",
       "      <td>5</td>\n",
       "      <td>0</td>\n",
       "      <td>16</td>\n",
       "      <td>0</td>\n",
       "    </tr>\n",
       "    <tr>\n",
       "      <th>7</th>\n",
       "      <td>52</td>\n",
       "      <td>9</td>\n",
       "      <td>0</td>\n",
       "      <td>45</td>\n",
       "      <td>1</td>\n",
       "    </tr>\n",
       "    <tr>\n",
       "      <th>8</th>\n",
       "      <td>31</td>\n",
       "      <td>14</td>\n",
       "      <td>14084</td>\n",
       "      <td>50</td>\n",
       "      <td>1</td>\n",
       "    </tr>\n",
       "    <tr>\n",
       "      <th>9</th>\n",
       "      <td>42</td>\n",
       "      <td>13</td>\n",
       "      <td>5178</td>\n",
       "      <td>40</td>\n",
       "      <td>1</td>\n",
       "    </tr>\n",
       "  </tbody>\n",
       "</table>\n",
       "</div>"
      ],
      "text/plain": [
       "   age  education-num  capital-gain  hours-per-week  Income\n",
       "0   39             13          2174              40       0\n",
       "1   50             13             0              13       0\n",
       "2   38              9             0              40       0\n",
       "3   53              7             0              40       0\n",
       "4   28             13             0              40       0\n",
       "5   37             14             0              40       0\n",
       "6   49              5             0              16       0\n",
       "7   52              9             0              45       1\n",
       "8   31             14         14084              50       1\n",
       "9   42             13          5178              40       1"
      ]
     },
     "execution_count": 13,
     "metadata": {},
     "output_type": "execute_result"
    }
   ],
   "source": [
    "sal_2.head(10)"
   ]
  },
  {
   "cell_type": "code",
   "execution_count": 14,
   "metadata": {},
   "outputs": [
    {
     "data": {
      "image/png": "[encoded data removed]",
      "text/plain": [
       "<Figure size 864x864 with 2 Axes>"
      ]
     },
     "metadata": {
      "needs_background": "light"
     },
     "output_type": "display_data"
    }
   ],
   "source": [
    "plt.figure(figsize = (12,12))\n",
    "sns.heatmap( data = sal_2.corr(), annot = True,linewidths = 2)\n",
    "plt.show()"
   ]
  },
  {
   "cell_type": "code",
   "execution_count": 15,
   "metadata": {},
   "outputs": [],
   "source": [
    "from sklearn.preprocessing import LabelEncoder\n",
    "le = LabelEncoder()"
   ]
  },
  {
   "cell_type": "code",
   "execution_count": 16,
   "metadata": {},
   "outputs": [
    {
     "data": {
      "text/plain": [
       "array([5, 4, 2, ..., 2, 1, 2])"
      ]
     },
     "execution_count": 16,
     "metadata": {},
     "output_type": "execute_result"
    }
   ],
   "source": [
    "le.fit_transform(sal[\"Workclass\"])"
   ]
  },
  {
   "cell_type": "code",
   "execution_count": 17,
   "metadata": {},
   "outputs": [
    {
     "name": "stderr",
     "output_type": "stream",
     "text": [
      "C:\\Users\\DELL\\anaconda3\\lib\\site-packages\\ipykernel_launcher.py:1: SettingWithCopyWarning: \n",
      "A value is trying to be set on a copy of a slice from a DataFrame.\n",
      "Try using .loc[row_indexer,col_indexer] = value instead\n",
      "\n",
      "See the caveats in the documentation: https://pandas.pydata.org/pandas-docs/stable/user_guide/indexing.html#returning-a-view-versus-a-copy\n",
      "  \"\"\"Entry point for launching an IPython kernel.\n"
     ]
    }
   ],
   "source": [
    "sal_2[\"Workclass_enc\"] = le.fit_transform(sal[\"Workclass\"])"
   ]
  },
  {
   "cell_type": "code",
   "execution_count": 18,
   "metadata": {},
   "outputs": [
    {
     "name": "stderr",
     "output_type": "stream",
     "text": [
      "C:\\Users\\DELL\\anaconda3\\lib\\site-packages\\ipykernel_launcher.py:2: SettingWithCopyWarning: \n",
      "A value is trying to be set on a copy of a slice from a DataFrame.\n",
      "Try using .loc[row_indexer,col_indexer] = value instead\n",
      "\n",
      "See the caveats in the documentation: https://pandas.pydata.org/pandas-docs/stable/user_guide/indexing.html#returning-a-view-versus-a-copy\n",
      "  \n"
     ]
    }
   ],
   "source": [
    "le.fit_transform(sal[\"education\"])\n",
    "sal_2[\"education_enc\"] = le.fit_transform(sal[\"education\"])"
   ]
  },
  {
   "cell_type": "code",
   "execution_count": 19,
   "metadata": {},
   "outputs": [
    {
     "name": "stderr",
     "output_type": "stream",
     "text": [
      "C:\\Users\\DELL\\anaconda3\\lib\\site-packages\\ipykernel_launcher.py:2: SettingWithCopyWarning: \n",
      "A value is trying to be set on a copy of a slice from a DataFrame.\n",
      "Try using .loc[row_indexer,col_indexer] = value instead\n",
      "\n",
      "See the caveats in the documentation: https://pandas.pydata.org/pandas-docs/stable/user_guide/indexing.html#returning-a-view-versus-a-copy\n",
      "  \n"
     ]
    }
   ],
   "source": [
    "le.fit_transform(sal[\"marital-status\"])\n",
    "sal_2[\"marital-status_enc\"] = le.fit_transform(sal[\"marital-status\"])"
   ]
  },
  {
   "cell_type": "code",
   "execution_count": 20,
   "metadata": {},
   "outputs": [
    {
     "name": "stderr",
     "output_type": "stream",
     "text": [
      "C:\\Users\\DELL\\anaconda3\\lib\\site-packages\\ipykernel_launcher.py:2: SettingWithCopyWarning: \n",
      "A value is trying to be set on a copy of a slice from a DataFrame.\n",
      "Try using .loc[row_indexer,col_indexer] = value instead\n",
      "\n",
      "See the caveats in the documentation: https://pandas.pydata.org/pandas-docs/stable/user_guide/indexing.html#returning-a-view-versus-a-copy\n",
      "  \n"
     ]
    }
   ],
   "source": [
    "le.fit_transform(sal[\"occupation\"])\n",
    "sal_2[\"occupation_enc\"] = le.fit_transform(sal[\"occupation\"])"
   ]
  },
  {
   "cell_type": "code",
   "execution_count": 21,
   "metadata": {},
   "outputs": [
    {
     "name": "stderr",
     "output_type": "stream",
     "text": [
      "C:\\Users\\DELL\\anaconda3\\lib\\site-packages\\ipykernel_launcher.py:2: SettingWithCopyWarning: \n",
      "A value is trying to be set on a copy of a slice from a DataFrame.\n",
      "Try using .loc[row_indexer,col_indexer] = value instead\n",
      "\n",
      "See the caveats in the documentation: https://pandas.pydata.org/pandas-docs/stable/user_guide/indexing.html#returning-a-view-versus-a-copy\n",
      "  \n"
     ]
    }
   ],
   "source": [
    "le.fit_transform(sal[\"native-country\"])\n",
    "sal_2[\"native-country_enc\"] = le.fit_transform(sal[\"native-country\"])"
   ]
  },
  {
   "cell_type": "code",
   "execution_count": 22,
   "metadata": {},
   "outputs": [
    {
     "data": {
      "text/html": [
       "<div>\n",
       "<style scoped>\n",
       "    .dataframe tbody tr th:only-of-type {\n",
       "        vertical-align: middle;\n",
       "    }\n",
       "\n",
       "    .dataframe tbody tr th {\n",
       "        vertical-align: top;\n",
       "    }\n",
       "\n",
       "    .dataframe thead th {\n",
       "        text-align: right;\n",
       "    }\n",
       "</style>\n",
       "<table border=\"1\" class=\"dataframe\">\n",
       "  <thead>\n",
       "    <tr style=\"text-align: right;\">\n",
       "      <th></th>\n",
       "      <th>age</th>\n",
       "      <th>education-num</th>\n",
       "      <th>capital-gain</th>\n",
       "      <th>hours-per-week</th>\n",
       "      <th>Income</th>\n",
       "      <th>Workclass_enc</th>\n",
       "      <th>education_enc</th>\n",
       "      <th>marital-status_enc</th>\n",
       "      <th>occupation_enc</th>\n",
       "      <th>native-country_enc</th>\n",
       "    </tr>\n",
       "  </thead>\n",
       "  <tbody>\n",
       "    <tr>\n",
       "      <th>0</th>\n",
       "      <td>39</td>\n",
       "      <td>13</td>\n",
       "      <td>2174</td>\n",
       "      <td>40</td>\n",
       "      <td>0</td>\n",
       "      <td>5</td>\n",
       "      <td>9</td>\n",
       "      <td>4</td>\n",
       "      <td>0</td>\n",
       "      <td>28</td>\n",
       "    </tr>\n",
       "    <tr>\n",
       "      <th>1</th>\n",
       "      <td>50</td>\n",
       "      <td>13</td>\n",
       "      <td>0</td>\n",
       "      <td>13</td>\n",
       "      <td>0</td>\n",
       "      <td>4</td>\n",
       "      <td>9</td>\n",
       "      <td>2</td>\n",
       "      <td>3</td>\n",
       "      <td>28</td>\n",
       "    </tr>\n",
       "    <tr>\n",
       "      <th>2</th>\n",
       "      <td>38</td>\n",
       "      <td>9</td>\n",
       "      <td>0</td>\n",
       "      <td>40</td>\n",
       "      <td>0</td>\n",
       "      <td>2</td>\n",
       "      <td>11</td>\n",
       "      <td>0</td>\n",
       "      <td>5</td>\n",
       "      <td>28</td>\n",
       "    </tr>\n",
       "    <tr>\n",
       "      <th>3</th>\n",
       "      <td>53</td>\n",
       "      <td>7</td>\n",
       "      <td>0</td>\n",
       "      <td>40</td>\n",
       "      <td>0</td>\n",
       "      <td>2</td>\n",
       "      <td>1</td>\n",
       "      <td>2</td>\n",
       "      <td>5</td>\n",
       "      <td>28</td>\n",
       "    </tr>\n",
       "    <tr>\n",
       "      <th>4</th>\n",
       "      <td>28</td>\n",
       "      <td>13</td>\n",
       "      <td>0</td>\n",
       "      <td>40</td>\n",
       "      <td>0</td>\n",
       "      <td>2</td>\n",
       "      <td>9</td>\n",
       "      <td>2</td>\n",
       "      <td>9</td>\n",
       "      <td>4</td>\n",
       "    </tr>\n",
       "    <tr>\n",
       "      <th>...</th>\n",
       "      <td>...</td>\n",
       "      <td>...</td>\n",
       "      <td>...</td>\n",
       "      <td>...</td>\n",
       "      <td>...</td>\n",
       "      <td>...</td>\n",
       "      <td>...</td>\n",
       "      <td>...</td>\n",
       "      <td>...</td>\n",
       "      <td>...</td>\n",
       "    </tr>\n",
       "    <tr>\n",
       "      <th>1027</th>\n",
       "      <td>34</td>\n",
       "      <td>9</td>\n",
       "      <td>0</td>\n",
       "      <td>40</td>\n",
       "      <td>0</td>\n",
       "      <td>2</td>\n",
       "      <td>11</td>\n",
       "      <td>0</td>\n",
       "      <td>5</td>\n",
       "      <td>28</td>\n",
       "    </tr>\n",
       "    <tr>\n",
       "      <th>1028</th>\n",
       "      <td>36</td>\n",
       "      <td>10</td>\n",
       "      <td>0</td>\n",
       "      <td>40</td>\n",
       "      <td>0</td>\n",
       "      <td>2</td>\n",
       "      <td>15</td>\n",
       "      <td>2</td>\n",
       "      <td>2</td>\n",
       "      <td>28</td>\n",
       "    </tr>\n",
       "    <tr>\n",
       "      <th>1029</th>\n",
       "      <td>41</td>\n",
       "      <td>9</td>\n",
       "      <td>0</td>\n",
       "      <td>50</td>\n",
       "      <td>0</td>\n",
       "      <td>2</td>\n",
       "      <td>11</td>\n",
       "      <td>2</td>\n",
       "      <td>13</td>\n",
       "      <td>28</td>\n",
       "    </tr>\n",
       "    <tr>\n",
       "      <th>1030</th>\n",
       "      <td>58</td>\n",
       "      <td>13</td>\n",
       "      <td>0</td>\n",
       "      <td>40</td>\n",
       "      <td>1</td>\n",
       "      <td>1</td>\n",
       "      <td>9</td>\n",
       "      <td>2</td>\n",
       "      <td>9</td>\n",
       "      <td>28</td>\n",
       "    </tr>\n",
       "    <tr>\n",
       "      <th>1031</th>\n",
       "      <td>53</td>\n",
       "      <td>13</td>\n",
       "      <td>0</td>\n",
       "      <td>40</td>\n",
       "      <td>0</td>\n",
       "      <td>2</td>\n",
       "      <td>9</td>\n",
       "      <td>2</td>\n",
       "      <td>9</td>\n",
       "      <td>18</td>\n",
       "    </tr>\n",
       "  </tbody>\n",
       "</table>\n",
       "<p>1032 rows × 10 columns</p>\n",
       "</div>"
      ],
      "text/plain": [
       "      age  education-num  capital-gain  hours-per-week  Income  Workclass_enc  \\\n",
       "0      39             13          2174              40       0              5   \n",
       "1      50             13             0              13       0              4   \n",
       "2      38              9             0              40       0              2   \n",
       "3      53              7             0              40       0              2   \n",
       "4      28             13             0              40       0              2   \n",
       "...   ...            ...           ...             ...     ...            ...   \n",
       "1027   34              9             0              40       0              2   \n",
       "1028   36             10             0              40       0              2   \n",
       "1029   41              9             0              50       0              2   \n",
       "1030   58             13             0              40       1              1   \n",
       "1031   53             13             0              40       0              2   \n",
       "\n",
       "      education_enc  marital-status_enc  occupation_enc  native-country_enc  \n",
       "0                 9                   4               0                  28  \n",
       "1                 9                   2               3                  28  \n",
       "2                11                   0               5                  28  \n",
       "3                 1                   2               5                  28  \n",
       "4                 9                   2               9                   4  \n",
       "...             ...                 ...             ...                 ...  \n",
       "1027             11                   0               5                  28  \n",
       "1028             15                   2               2                  28  \n",
       "1029             11                   2              13                  28  \n",
       "1030              9                   2               9                  28  \n",
       "1031              9                   2               9                  18  \n",
       "\n",
       "[1032 rows x 10 columns]"
      ]
     },
     "execution_count": 22,
     "metadata": {},
     "output_type": "execute_result"
    }
   ],
   "source": [
    "sal_2"
   ]
  },
  {
   "cell_type": "code",
   "execution_count": 23,
   "metadata": {},
   "outputs": [
    {
     "data": {
      "image/png": "[encoded data removed]",
      "text/plain": [
       "<Figure size 864x864 with 2 Axes>"
      ]
     },
     "metadata": {
      "needs_background": "light"
     },
     "output_type": "display_data"
    }
   ],
   "source": [
    "plt.figure(figsize = (12,12))\n",
    "sns.heatmap( data = sal_2.corr(), annot = True,linewidths = 2)\n",
    "plt.show()"
   ]
  },
  {
   "cell_type": "code",
   "execution_count": 24,
   "metadata": {},
   "outputs": [],
   "source": [
    "X = sal_2.drop(\"Income\",axis = 1)"
   ]
  },
  {
   "cell_type": "code",
   "execution_count": 25,
   "metadata": {},
   "outputs": [],
   "source": [
    "y =sal_2[\"Income\"]"
   ]
  },
  {
   "cell_type": "code",
   "execution_count": 26,
   "metadata": {},
   "outputs": [],
   "source": [
    "X_train, X_test, y_train, y_test = train_test_split(X,y,test_size = 0.3, random_state = 1)"
   ]
  },
  {
   "cell_type": "code",
   "execution_count": 27,
   "metadata": {},
   "outputs": [],
   "source": [
    "from sklearn.linear_model import LogisticRegression"
   ]
  },
  {
   "cell_type": "code",
   "execution_count": 28,
   "metadata": {},
   "outputs": [],
   "source": [
    "log = LogisticRegression()"
   ]
  },
  {
   "cell_type": "code",
   "execution_count": 29,
   "metadata": {},
   "outputs": [
    {
     "name": "stderr",
     "output_type": "stream",
     "text": [
      "C:\\Users\\DELL\\anaconda3\\lib\\site-packages\\sklearn\\linear_model\\_logistic.py:940: ConvergenceWarning: lbfgs failed to converge (status=1):\n",
      "STOP: TOTAL NO. of ITERATIONS REACHED LIMIT.\n",
      "\n",
      "Increase the number of iterations (max_iter) or scale the data as shown in:\n",
      "    https://scikit-learn.org/stable/modules/preprocessing.html\n",
      "Please also refer to the documentation for alternative solver options:\n",
      "    https://scikit-learn.org/stable/modules/linear_model.html#logistic-regression\n",
      "  extra_warning_msg=_LOGISTIC_SOLVER_CONVERGENCE_MSG)\n"
     ]
    },
    {
     "data": {
      "text/plain": [
       "LogisticRegression(C=1.0, class_weight=None, dual=False, fit_intercept=True,\n",
       "                   intercept_scaling=1, l1_ratio=None, max_iter=100,\n",
       "                   multi_class='auto', n_jobs=None, penalty='l2',\n",
       "                   random_state=None, solver='lbfgs', tol=0.0001, verbose=0,\n",
       "                   warm_start=False)"
      ]
     },
     "execution_count": 29,
     "metadata": {},
     "output_type": "execute_result"
    }
   ],
   "source": [
    "log.fit(X_train, y_train)"
   ]
  },
  {
   "cell_type": "code",
   "execution_count": 30,
   "metadata": {},
   "outputs": [
    {
     "data": {
      "text/plain": [
       "array([0, 0, 0, 0, 0, 0, 0, 0, 0, 0, 0, 0, 0, 0, 0, 0, 0, 0, 0, 0, 0, 0,\n",
       "       0, 0, 0, 0, 0, 1, 0, 0, 0, 0, 0, 0, 0, 0, 0, 0, 0, 0, 0, 1, 0, 0,\n",
       "       0, 0, 1, 0, 0, 0, 1, 0, 0, 0, 0, 0, 0, 0, 1, 1, 0, 0, 0, 0, 0, 0,\n",
       "       0, 0, 0, 1, 0, 0, 1, 0, 0, 0, 0, 0, 0, 1, 0, 0, 0, 0, 0, 0, 0, 0,\n",
       "       0, 0, 0, 0, 1, 0, 0, 0, 0, 0, 0, 0, 1, 0, 0, 1, 0, 0, 0, 0, 0, 0,\n",
       "       0, 0, 0, 0, 0, 0, 1, 0, 0, 1, 1, 0, 0, 0, 0, 0, 1, 1, 0, 0, 0, 0,\n",
       "       0, 0, 0, 0, 0, 0, 0, 0, 0, 0, 0, 0, 0, 0, 0, 0, 0, 0, 0, 0, 0, 0,\n",
       "       0, 0, 0, 0, 0, 0, 0, 0, 0, 0, 0, 0, 0, 0, 0, 0, 1, 0, 1, 1, 0, 0,\n",
       "       1, 0, 0, 0, 0, 1, 0, 0, 0, 1, 0, 0, 0, 0, 0, 0, 0, 0, 0, 0, 0, 0,\n",
       "       0, 0, 0, 1, 0, 0, 0, 0, 0, 0, 0, 0, 0, 0, 0, 1, 0, 0, 0, 0, 0, 0,\n",
       "       0, 0, 0, 0, 0, 0, 0, 0, 0, 0, 0, 0, 0, 0, 0, 0, 1, 0, 0, 0, 0, 0,\n",
       "       1, 0, 0, 1, 0, 0, 0, 0, 0, 0, 0, 0, 0, 0, 0, 0, 0, 0, 0, 0, 0, 0,\n",
       "       0, 0, 0, 0, 0, 0, 0, 0, 0, 0, 0, 0, 0, 0, 0, 0, 0, 0, 0, 0, 0, 0,\n",
       "       0, 0, 0, 0, 0, 0, 0, 0, 0, 0, 0, 0, 1, 0, 0, 0, 0, 0, 0, 0, 1, 0,\n",
       "       0, 0], dtype=int64)"
      ]
     },
     "execution_count": 30,
     "metadata": {},
     "output_type": "execute_result"
    }
   ],
   "source": [
    "y_pred = log.predict(X_test)\n",
    "y_pred"
   ]
  },
  {
   "cell_type": "code",
   "execution_count": 31,
   "metadata": {},
   "outputs": [
    {
     "data": {
      "text/plain": [
       "array([[8.27924617e-01, 1.72075383e-01],\n",
       "       [7.93689098e-01, 2.06310902e-01],\n",
       "       [6.49799469e-01, 3.50200531e-01],\n",
       "       [8.17814064e-01, 1.82185936e-01],\n",
       "       [9.32145326e-01, 6.78546742e-02],\n",
       "       [9.40952578e-01, 5.90474218e-02],\n",
       "       [8.56259820e-01, 1.43740180e-01],\n",
       "       [8.06696170e-01, 1.93303830e-01],\n",
       "       [7.80863908e-01, 2.19136092e-01],\n",
       "       [7.61786607e-01, 2.38213393e-01],\n",
       "       [9.27982617e-01, 7.20173834e-02],\n",
       "       [7.59586405e-01, 2.40413595e-01],\n",
       "       [8.44823161e-01, 1.55176839e-01],\n",
       "       [5.35794187e-01, 4.64205813e-01],\n",
       "       [7.60679363e-01, 2.39320637e-01],\n",
       "       [9.34365215e-01, 6.56347850e-02],\n",
       "       [8.49128689e-01, 1.50871311e-01],\n",
       "       [7.28883908e-01, 2.71116092e-01],\n",
       "       [8.22470775e-01, 1.77529225e-01],\n",
       "       [8.54519135e-01, 1.45480865e-01],\n",
       "       [8.26397897e-01, 1.73602103e-01],\n",
       "       [7.49561452e-01, 2.50438548e-01],\n",
       "       [6.46781331e-01, 3.53218669e-01],\n",
       "       [6.86211665e-01, 3.13788335e-01],\n",
       "       [7.50238977e-01, 2.49761023e-01],\n",
       "       [7.45747866e-01, 2.54252134e-01],\n",
       "       [7.02797112e-01, 2.97202888e-01],\n",
       "       [3.77428096e-01, 6.22571904e-01],\n",
       "       [6.24733434e-01, 3.75266566e-01],\n",
       "       [7.69660547e-01, 2.30339453e-01],\n",
       "       [7.75321386e-01, 2.24678614e-01],\n",
       "       [6.55291467e-01, 3.44708533e-01],\n",
       "       [6.05411706e-01, 3.94588294e-01],\n",
       "       [8.80435408e-01, 1.19564592e-01],\n",
       "       [6.86211665e-01, 3.13788335e-01],\n",
       "       [7.46287007e-01, 2.53712993e-01],\n",
       "       [9.50486006e-01, 4.95139945e-02],\n",
       "       [9.46752611e-01, 5.32473894e-02],\n",
       "       [8.15089125e-01, 1.84910875e-01],\n",
       "       [8.22481375e-01, 1.77518625e-01],\n",
       "       [6.46552282e-01, 3.53447718e-01],\n",
       "       [4.70321389e-01, 5.29678611e-01],\n",
       "       [5.12666538e-01, 4.87333462e-01],\n",
       "       [9.51310051e-01, 4.86899495e-02],\n",
       "       [8.02831089e-01, 1.97168911e-01],\n",
       "       [6.57110635e-01, 3.42889365e-01],\n",
       "       [1.91384006e-02, 9.80861599e-01],\n",
       "       [8.05111267e-01, 1.94888733e-01],\n",
       "       [8.00749255e-01, 1.99250745e-01],\n",
       "       [9.05483218e-01, 9.45167824e-02],\n",
       "       [1.08516930e-01, 8.91483070e-01],\n",
       "       [7.73957529e-01, 2.26042471e-01],\n",
       "       [9.51515651e-01, 4.84843490e-02],\n",
       "       [9.12224062e-01, 8.77759376e-02],\n",
       "       [8.22905590e-01, 1.77094410e-01],\n",
       "       [7.43445024e-01, 2.56554976e-01],\n",
       "       [7.82414537e-01, 2.17585463e-01],\n",
       "       [7.82957798e-01, 2.17042202e-01],\n",
       "       [4.86300723e-01, 5.13699277e-01],\n",
       "       [3.59091638e-01, 6.40908362e-01],\n",
       "       [9.50436120e-01, 4.95638801e-02],\n",
       "       [9.36514848e-01, 6.34851516e-02],\n",
       "       [5.16344101e-01, 4.83655899e-01],\n",
       "       [8.23148021e-01, 1.76851979e-01],\n",
       "       [6.15042252e-01, 3.84957748e-01],\n",
       "       [9.23310819e-01, 7.66891809e-02],\n",
       "       [9.23395267e-01, 7.66047333e-02],\n",
       "       [7.56574873e-01, 2.43425127e-01],\n",
       "       [5.11417561e-01, 4.88582439e-01],\n",
       "       [2.60052507e-01, 7.39947493e-01],\n",
       "       [6.63769067e-01, 3.36230933e-01],\n",
       "       [8.42865013e-01, 1.57134987e-01],\n",
       "       [2.85528799e-01, 7.14471201e-01],\n",
       "       [8.40191106e-01, 1.59808894e-01],\n",
       "       [8.61161337e-01, 1.38838663e-01],\n",
       "       [8.51676246e-01, 1.48323754e-01],\n",
       "       [9.23428245e-01, 7.65717553e-02],\n",
       "       [9.18283776e-01, 8.17162240e-02],\n",
       "       [8.15525330e-01, 1.84474670e-01],\n",
       "       [4.53819130e-01, 5.46180870e-01],\n",
       "       [9.45486356e-01, 5.45136442e-02],\n",
       "       [6.57053710e-01, 3.42946290e-01],\n",
       "       [7.53644666e-01, 2.46355334e-01],\n",
       "       [9.42490758e-01, 5.75092420e-02],\n",
       "       [8.93018141e-01, 1.06981859e-01],\n",
       "       [8.38939249e-01, 1.61060751e-01],\n",
       "       [7.32478656e-01, 2.67521344e-01],\n",
       "       [8.89924238e-01, 1.10075762e-01],\n",
       "       [8.65784972e-01, 1.34215028e-01],\n",
       "       [7.81029546e-01, 2.18970454e-01],\n",
       "       [8.45380171e-01, 1.54619829e-01],\n",
       "       [9.44125522e-01, 5.58744779e-02],\n",
       "       [4.17498053e-01, 5.82501947e-01],\n",
       "       [9.38145398e-01, 6.18546021e-02],\n",
       "       [8.51676246e-01, 1.48323754e-01],\n",
       "       [6.31457722e-01, 3.68542278e-01],\n",
       "       [8.29589794e-01, 1.70410206e-01],\n",
       "       [9.15222034e-01, 8.47779663e-02],\n",
       "       [8.97609779e-01, 1.02390221e-01],\n",
       "       [7.97421921e-01, 2.02578079e-01],\n",
       "       [4.83852746e-01, 5.16147254e-01],\n",
       "       [8.91640590e-01, 1.08359410e-01],\n",
       "       [7.95616397e-01, 2.04383603e-01],\n",
       "       [1.01890732e-01, 8.98109268e-01],\n",
       "       [8.64092447e-01, 1.35907553e-01],\n",
       "       [7.30655739e-01, 2.69344261e-01],\n",
       "       [8.19860344e-01, 1.80139656e-01],\n",
       "       [8.04041862e-01, 1.95958138e-01],\n",
       "       [7.98320092e-01, 2.01679908e-01],\n",
       "       [9.42695972e-01, 5.73040280e-02],\n",
       "       [9.42848427e-01, 5.71515726e-02],\n",
       "       [8.75547964e-01, 1.24452036e-01],\n",
       "       [9.21050201e-01, 7.89497990e-02],\n",
       "       [9.52875108e-01, 4.71248916e-02],\n",
       "       [5.85087457e-01, 4.14912543e-01],\n",
       "       [8.43073147e-01, 1.56926853e-01],\n",
       "       [2.03649577e-01, 7.96350423e-01],\n",
       "       [7.89881385e-01, 2.10118615e-01],\n",
       "       [8.13818682e-01, 1.86181318e-01],\n",
       "       [4.69940775e-01, 5.30059225e-01],\n",
       "       [4.57620588e-01, 5.42379412e-01],\n",
       "       [9.32121212e-01, 6.78787883e-02],\n",
       "       [9.51912662e-01, 4.80873379e-02],\n",
       "       [9.45509860e-01, 5.44901397e-02],\n",
       "       [7.10541396e-01, 2.89458604e-01],\n",
       "       [6.49901754e-01, 3.50098246e-01],\n",
       "       [2.77716280e-03, 9.97222837e-01],\n",
       "       [5.96137806e-03, 9.94038622e-01],\n",
       "       [9.48122278e-01, 5.18777222e-02],\n",
       "       [5.04077320e-01, 4.95922680e-01],\n",
       "       [7.38596648e-01, 2.61403352e-01],\n",
       "       [9.35227905e-01, 6.47720947e-02],\n",
       "       [6.46691053e-01, 3.53308947e-01],\n",
       "       [9.44867553e-01, 5.51324470e-02],\n",
       "       [5.12983706e-01, 4.87016294e-01],\n",
       "       [6.87959601e-01, 3.12040399e-01],\n",
       "       [7.41418675e-01, 2.58581325e-01],\n",
       "       [7.78019344e-01, 2.21980656e-01],\n",
       "       [6.82223229e-01, 3.17776771e-01],\n",
       "       [9.07713306e-01, 9.22866937e-02],\n",
       "       [9.10033266e-01, 8.99667337e-02],\n",
       "       [9.09840402e-01, 9.01595978e-02],\n",
       "       [8.87577389e-01, 1.12422611e-01],\n",
       "       [8.67073594e-01, 1.32926406e-01],\n",
       "       [9.36460163e-01, 6.35398369e-02],\n",
       "       [7.99645269e-01, 2.00354731e-01],\n",
       "       [7.21873710e-01, 2.78126290e-01],\n",
       "       [9.53819226e-01, 4.61807738e-02],\n",
       "       [9.07400031e-01, 9.25999686e-02],\n",
       "       [9.24928276e-01, 7.50717243e-02],\n",
       "       [9.40465725e-01, 5.95342751e-02],\n",
       "       [9.01434126e-01, 9.85658744e-02],\n",
       "       [8.72004201e-01, 1.27995799e-01],\n",
       "       [8.28949451e-01, 1.71050549e-01],\n",
       "       [7.83040458e-01, 2.16959542e-01],\n",
       "       [8.62652867e-01, 1.37347133e-01],\n",
       "       [7.00192544e-01, 2.99807456e-01],\n",
       "       [9.47086845e-01, 5.29131548e-02],\n",
       "       [9.51224121e-01, 4.87758788e-02],\n",
       "       [8.98034877e-01, 1.01965123e-01],\n",
       "       [9.25574436e-01, 7.44255637e-02],\n",
       "       [9.50693768e-01, 4.93062317e-02],\n",
       "       [6.65617143e-01, 3.34382857e-01],\n",
       "       [7.67665285e-01, 2.32334715e-01],\n",
       "       [8.99969023e-01, 1.00030977e-01],\n",
       "       [8.47622094e-01, 1.52377906e-01],\n",
       "       [7.56619870e-01, 2.43380130e-01],\n",
       "       [9.20615862e-01, 7.93841382e-02],\n",
       "       [6.77514451e-01, 3.22485549e-01],\n",
       "       [9.24408425e-01, 7.55915752e-02],\n",
       "       [2.22069112e-02, 9.77793089e-01],\n",
       "       [5.68651802e-01, 4.31348198e-01],\n",
       "       [4.71632154e-01, 5.28367846e-01],\n",
       "       [4.18155273e-01, 5.81844727e-01],\n",
       "       [7.53239795e-01, 2.46760205e-01],\n",
       "       [8.55564160e-01, 1.44435840e-01],\n",
       "       [4.69213179e-01, 5.30786821e-01],\n",
       "       [7.58109640e-01, 2.41890360e-01],\n",
       "       [8.05857026e-01, 1.94142974e-01],\n",
       "       [8.34707278e-01, 1.65292722e-01],\n",
       "       [8.78968024e-01, 1.21031976e-01],\n",
       "       [3.61973266e-01, 6.38026734e-01],\n",
       "       [8.83629708e-01, 1.16370292e-01],\n",
       "       [9.51679372e-01, 4.83206282e-02],\n",
       "       [9.41248733e-01, 5.87512675e-02],\n",
       "       [4.99003143e-01, 5.00996857e-01],\n",
       "       [9.20501260e-01, 7.94987397e-02],\n",
       "       [8.35508147e-01, 1.64491853e-01],\n",
       "       [6.33872635e-01, 3.66127365e-01],\n",
       "       [6.03915214e-01, 3.96084786e-01],\n",
       "       [8.51637662e-01, 1.48362338e-01],\n",
       "       [7.32740691e-01, 2.67259309e-01],\n",
       "       [9.51768919e-01, 4.82310809e-02],\n",
       "       [8.54250315e-01, 1.45749685e-01],\n",
       "       [9.52122186e-01, 4.78778140e-02],\n",
       "       [8.74955636e-01, 1.25044364e-01],\n",
       "       [9.54299854e-01, 4.57001462e-02],\n",
       "       [8.76349858e-01, 1.23650142e-01],\n",
       "       [8.56920171e-01, 1.43079829e-01],\n",
       "       [8.75042403e-01, 1.24957597e-01],\n",
       "       [9.15222034e-01, 8.47779663e-02],\n",
       "       [3.50186785e-01, 6.49813215e-01],\n",
       "       [9.52199656e-01, 4.78003437e-02],\n",
       "       [7.19050215e-01, 2.80949785e-01],\n",
       "       [8.29602454e-01, 1.70397546e-01],\n",
       "       [6.76786160e-01, 3.23213840e-01],\n",
       "       [9.54259740e-01, 4.57402600e-02],\n",
       "       [9.36091057e-01, 6.39089433e-02],\n",
       "       [7.35185214e-01, 2.64814786e-01],\n",
       "       [8.68577382e-01, 1.31422618e-01],\n",
       "       [5.20871708e-01, 4.79128292e-01],\n",
       "       [6.65273261e-01, 3.34726739e-01],\n",
       "       [8.28918843e-01, 1.71081157e-01],\n",
       "       [5.27079251e-04, 9.99472921e-01],\n",
       "       [9.47823347e-01, 5.21766532e-02],\n",
       "       [7.91161866e-01, 2.08838134e-01],\n",
       "       [9.55162658e-01, 4.48373420e-02],\n",
       "       [9.53970859e-01, 4.60291408e-02],\n",
       "       [8.29948910e-01, 1.70051090e-01],\n",
       "       [8.00586802e-01, 1.99413198e-01],\n",
       "       [6.22346648e-01, 3.77653352e-01],\n",
       "       [7.73337927e-01, 2.26662073e-01],\n",
       "       [6.39887118e-01, 3.60112882e-01],\n",
       "       [8.81950066e-01, 1.18049934e-01],\n",
       "       [9.35363732e-01, 6.46362677e-02],\n",
       "       [9.53437186e-01, 4.65628142e-02],\n",
       "       [9.40185427e-01, 5.98145727e-02],\n",
       "       [9.13504772e-01, 8.64952281e-02],\n",
       "       [7.28811475e-01, 2.71188525e-01],\n",
       "       [7.87615724e-01, 2.12384276e-01],\n",
       "       [9.53819226e-01, 4.61807738e-02],\n",
       "       [9.23810238e-01, 7.61897618e-02],\n",
       "       [8.93540834e-01, 1.06459166e-01],\n",
       "       [9.53429845e-01, 4.65701546e-02],\n",
       "       [9.49092922e-01, 5.09070781e-02],\n",
       "       [8.31589520e-01, 1.68410480e-01],\n",
       "       [4.91864847e-01, 5.08135153e-01],\n",
       "       [6.03393805e-01, 3.96606195e-01],\n",
       "       [8.48661616e-01, 1.51338384e-01],\n",
       "       [6.91081026e-01, 3.08918974e-01],\n",
       "       [8.02441876e-01, 1.97558124e-01],\n",
       "       [6.41007825e-01, 3.58992175e-01],\n",
       "       [3.40722299e-01, 6.59277701e-01],\n",
       "       [8.04319139e-01, 1.95680861e-01],\n",
       "       [8.46232554e-01, 1.53767446e-01],\n",
       "       [9.30733241e-02, 9.06926676e-01],\n",
       "       [8.19587551e-01, 1.80412449e-01],\n",
       "       [9.11755532e-01, 8.82444676e-02],\n",
       "       [8.97072090e-01, 1.02927910e-01],\n",
       "       [6.96272779e-01, 3.03727221e-01],\n",
       "       [8.46140982e-01, 1.53859018e-01],\n",
       "       [7.89801913e-01, 2.10198087e-01],\n",
       "       [9.43242992e-01, 5.67570084e-02],\n",
       "       [9.30082140e-01, 6.99178601e-02],\n",
       "       [7.20011429e-01, 2.79988571e-01],\n",
       "       [7.37422977e-01, 2.62577023e-01],\n",
       "       [7.76227794e-01, 2.23772206e-01],\n",
       "       [8.21167598e-01, 1.78832402e-01],\n",
       "       [7.06153369e-01, 2.93846631e-01],\n",
       "       [8.53083212e-01, 1.46916788e-01],\n",
       "       [9.49232206e-01, 5.07677945e-02],\n",
       "       [8.36859333e-01, 1.63140667e-01],\n",
       "       [9.46585353e-01, 5.34146472e-02],\n",
       "       [5.98267594e-01, 4.01732406e-01],\n",
       "       [9.54229021e-01, 4.57709789e-02],\n",
       "       [8.73172284e-01, 1.26827716e-01],\n",
       "       [8.81446525e-01, 1.18553475e-01],\n",
       "       [9.39617944e-01, 6.03820560e-02],\n",
       "       [6.27436820e-01, 3.72563180e-01],\n",
       "       [8.76273600e-01, 1.23726400e-01],\n",
       "       [6.14170154e-01, 3.85829846e-01],\n",
       "       [5.63171781e-01, 4.36828219e-01],\n",
       "       [8.98168493e-01, 1.01831507e-01],\n",
       "       [7.98373738e-01, 2.01626262e-01],\n",
       "       [9.37711647e-01, 6.22883533e-02],\n",
       "       [9.40707579e-01, 5.92924213e-02],\n",
       "       [5.70697401e-01, 4.29302599e-01],\n",
       "       [9.26651824e-01, 7.33481759e-02],\n",
       "       [8.45861233e-01, 1.54138767e-01],\n",
       "       [8.75005096e-01, 1.24994904e-01],\n",
       "       [7.25695460e-01, 2.74304540e-01],\n",
       "       [8.19587551e-01, 1.80412449e-01],\n",
       "       [8.54250315e-01, 1.45749685e-01],\n",
       "       [8.86776321e-01, 1.13223679e-01],\n",
       "       [8.47165096e-01, 1.52834904e-01],\n",
       "       [9.28882969e-01, 7.11170307e-02],\n",
       "       [6.33291859e-01, 3.66708141e-01],\n",
       "       [8.23925846e-01, 1.76074154e-01],\n",
       "       [8.71155172e-01, 1.28844828e-01],\n",
       "       [8.76634884e-01, 1.23365116e-01],\n",
       "       [7.80668634e-01, 2.19331366e-01],\n",
       "       [7.41418675e-01, 2.58581325e-01],\n",
       "       [8.55823379e-01, 1.44176621e-01],\n",
       "       [8.59348819e-01, 1.40651181e-01],\n",
       "       [7.57143945e-01, 2.42856055e-01],\n",
       "       [8.57185049e-01, 1.42814951e-01],\n",
       "       [8.57762935e-01, 1.42237065e-01],\n",
       "       [6.08156576e-01, 3.91843424e-01],\n",
       "       [1.29978820e-01, 8.70021180e-01],\n",
       "       [7.93850839e-01, 2.06149161e-01],\n",
       "       [5.72505850e-01, 4.27494150e-01],\n",
       "       [6.38905508e-01, 3.61094492e-01],\n",
       "       [7.74297567e-01, 2.25702433e-01],\n",
       "       [9.38447278e-01, 6.15527217e-02],\n",
       "       [7.06718425e-01, 2.93281575e-01],\n",
       "       [8.13688066e-01, 1.86311934e-01],\n",
       "       [3.64553821e-01, 6.35446179e-01],\n",
       "       [8.08471044e-01, 1.91528956e-01],\n",
       "       [7.81934561e-01, 2.18065439e-01],\n",
       "       [9.42851293e-01, 5.71487075e-02]])"
      ]
     },
     "execution_count": 31,
     "metadata": {},
     "output_type": "execute_result"
    }
   ],
   "source": [
    "log.predict_proba(X_test)"
   ]
  },
  {
   "cell_type": "code",
   "execution_count": 32,
   "metadata": {},
   "outputs": [
    {
     "data": {
      "text/plain": [
       "0.7728531855955678"
      ]
     },
     "execution_count": 32,
     "metadata": {},
     "output_type": "execute_result"
    }
   ],
   "source": [
    "log.score(X_train,y_train)"
   ]
  },
  {
   "cell_type": "code",
   "execution_count": 33,
   "metadata": {},
   "outputs": [
    {
     "data": {
      "text/plain": [
       "0.7935483870967742"
      ]
     },
     "execution_count": 33,
     "metadata": {},
     "output_type": "execute_result"
    }
   ],
   "source": [
    "log.score(X_test,y_test)"
   ]
  },
  {
   "cell_type": "code",
   "execution_count": 34,
   "metadata": {},
   "outputs": [],
   "source": [
    "from sklearn.metrics import accuracy_score, precision_score,recall_score,f1_score"
   ]
  },
  {
   "cell_type": "code",
   "execution_count": 35,
   "metadata": {},
   "outputs": [
    {
     "data": {
      "text/plain": [
       "0.7935483870967742"
      ]
     },
     "execution_count": 35,
     "metadata": {},
     "output_type": "execute_result"
    }
   ],
   "source": [
    "accuracy_score(y_test,y_pred)"
   ]
  },
  {
   "cell_type": "code",
   "execution_count": 36,
   "metadata": {},
   "outputs": [
    {
     "data": {
      "text/plain": [
       "0.6333333333333333"
      ]
     },
     "execution_count": 36,
     "metadata": {},
     "output_type": "execute_result"
    }
   ],
   "source": [
    "precision_score(y_test, y_pred)"
   ]
  },
  {
   "cell_type": "code",
   "execution_count": 37,
   "metadata": {},
   "outputs": [
    {
     "data": {
      "text/plain": [
       "0.2638888888888889"
      ]
     },
     "execution_count": 37,
     "metadata": {},
     "output_type": "execute_result"
    }
   ],
   "source": [
    "recall_score(y_test,y_pred)"
   ]
  },
  {
   "cell_type": "code",
   "execution_count": 38,
   "metadata": {},
   "outputs": [
    {
     "data": {
      "text/plain": [
       "0.37254901960784315"
      ]
     },
     "execution_count": 38,
     "metadata": {},
     "output_type": "execute_result"
    }
   ],
   "source": [
    "f1_score(y_test,y_pred)"
   ]
  },
  {
   "cell_type": "code",
   "execution_count": 39,
   "metadata": {},
   "outputs": [],
   "source": [
    "from sklearn.metrics import classification_report,confusion_matrix"
   ]
  },
  {
   "cell_type": "code",
   "execution_count": 40,
   "metadata": {},
   "outputs": [
    {
     "name": "stdout",
     "output_type": "stream",
     "text": [
      "              precision    recall  f1-score   support\n",
      "\n",
      "           0       0.81      0.95      0.88       238\n",
      "           1       0.63      0.26      0.37        72\n",
      "\n",
      "    accuracy                           0.79       310\n",
      "   macro avg       0.72      0.61      0.62       310\n",
      "weighted avg       0.77      0.79      0.76       310\n",
      "\n"
     ]
    }
   ],
   "source": [
    "print(classification_report(y_test,y_pred))"
   ]
  },
  {
   "cell_type": "code",
   "execution_count": 41,
   "metadata": {},
   "outputs": [],
   "source": [
    "tn, fp, fn, tp = confusion_matrix(y_test,y_pred).ravel()"
   ]
  },
  {
   "cell_type": "code",
   "execution_count": 42,
   "metadata": {},
   "outputs": [
    {
     "name": "stdout",
     "output_type": "stream",
     "text": [
      "19 11\n",
      "53 227\n"
     ]
    }
   ],
   "source": [
    "print(tp, fp)\n",
    "print(fn, tn)"
   ]
  },
  {
   "cell_type": "code",
   "execution_count": 43,
   "metadata": {},
   "outputs": [
    {
     "data": {
      "text/plain": [
       "0.7935483870967742"
      ]
     },
     "execution_count": 43,
     "metadata": {},
     "output_type": "execute_result"
    }
   ],
   "source": [
    "accuracy = (tp+tn)/(tp+tn+fn+fp)\n",
    "accuracy"
   ]
  },
  {
   "cell_type": "code",
   "execution_count": null,
   "metadata": {},
   "outputs": [],
   "source": []
  }
 ],
 "metadata": {
  "kernelspec": {
   "display_name": "Python 3",
   "language": "python",
   "name": "python3"
  },
  "language_info": {
   "codemirror_mode": {
    "name": "ipython",
    "version": 3
   },
   "file_extension": ".py",
   "mimetype": "text/x-python",
   "name": "python",
   "nbconvert_exporter": "python",
   "pygments_lexer": "ipython3",
   "version": "3.7.6"
  }
 },
 "nbformat": 4,
 "nbformat_minor": 4
}
