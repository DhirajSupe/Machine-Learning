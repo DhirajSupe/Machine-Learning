{
 "cells": [
  {
   "cell_type": "markdown",
   "metadata": {},
   "source": [
    "## Decision Tree Assignment"
   ]
  },
  {
   "cell_type": "code",
   "execution_count": 1,
   "metadata": {},
   "outputs": [],
   "source": [
    "import numpy as np\n",
    "import pandas as pd\n",
    "import matplotlib.pyplot as plt\n",
    "import seaborn as sns\n",
    "\n",
    "from sklearn.tree import DecisionTreeClassifier\n",
    "from sklearn.linear_model import LogisticRegression\n",
    "from sklearn.model_selection import train_test_split\n",
    "from sklearn.metrics import classification_report\n",
    "\n",
    "import warnings\n",
    "warnings.filterwarnings(\"ignore\")"
   ]
  },
  {
   "cell_type": "code",
   "execution_count": 2,
   "metadata": {},
   "outputs": [],
   "source": [
    "tnc = pd.read_csv(\"titanic.csv\")"
   ]
  },
  {
   "cell_type": "code",
   "execution_count": 3,
   "metadata": {},
   "outputs": [
    {
     "data": {
      "text/html": [
       "<div>\n",
       "<style scoped>\n",
       "    .dataframe tbody tr th:only-of-type {\n",
       "        vertical-align: middle;\n",
       "    }\n",
       "\n",
       "    .dataframe tbody tr th {\n",
       "        vertical-align: top;\n",
       "    }\n",
       "\n",
       "    .dataframe thead th {\n",
       "        text-align: right;\n",
       "    }\n",
       "</style>\n",
       "<table border=\"1\" class=\"dataframe\">\n",
       "  <thead>\n",
       "    <tr style=\"text-align: right;\">\n",
       "      <th></th>\n",
       "      <th>PassengerId</th>\n",
       "      <th>Survived</th>\n",
       "      <th>Pclass</th>\n",
       "      <th>Name</th>\n",
       "      <th>Sex</th>\n",
       "      <th>Age</th>\n",
       "      <th>SibSp</th>\n",
       "      <th>Parch</th>\n",
       "      <th>Ticket</th>\n",
       "      <th>Fare</th>\n",
       "      <th>Cabin</th>\n",
       "      <th>Embarked</th>\n",
       "    </tr>\n",
       "  </thead>\n",
       "  <tbody>\n",
       "    <tr>\n",
       "      <th>0</th>\n",
       "      <td>1</td>\n",
       "      <td>0</td>\n",
       "      <td>3</td>\n",
       "      <td>Braund, Mr. Owen Harris</td>\n",
       "      <td>male</td>\n",
       "      <td>22.0</td>\n",
       "      <td>1</td>\n",
       "      <td>0</td>\n",
       "      <td>A/5 21171</td>\n",
       "      <td>7.2500</td>\n",
       "      <td>NaN</td>\n",
       "      <td>S</td>\n",
       "    </tr>\n",
       "    <tr>\n",
       "      <th>1</th>\n",
       "      <td>2</td>\n",
       "      <td>1</td>\n",
       "      <td>1</td>\n",
       "      <td>Cumings, Mrs. John Bradley (Florence Briggs Th...</td>\n",
       "      <td>female</td>\n",
       "      <td>38.0</td>\n",
       "      <td>1</td>\n",
       "      <td>0</td>\n",
       "      <td>PC 17599</td>\n",
       "      <td>71.2833</td>\n",
       "      <td>C85</td>\n",
       "      <td>C</td>\n",
       "    </tr>\n",
       "    <tr>\n",
       "      <th>2</th>\n",
       "      <td>3</td>\n",
       "      <td>1</td>\n",
       "      <td>3</td>\n",
       "      <td>Heikkinen, Miss. Laina</td>\n",
       "      <td>female</td>\n",
       "      <td>26.0</td>\n",
       "      <td>0</td>\n",
       "      <td>0</td>\n",
       "      <td>STON/O2. 3101282</td>\n",
       "      <td>7.9250</td>\n",
       "      <td>NaN</td>\n",
       "      <td>S</td>\n",
       "    </tr>\n",
       "    <tr>\n",
       "      <th>3</th>\n",
       "      <td>4</td>\n",
       "      <td>1</td>\n",
       "      <td>1</td>\n",
       "      <td>Futrelle, Mrs. Jacques Heath (Lily May Peel)</td>\n",
       "      <td>female</td>\n",
       "      <td>35.0</td>\n",
       "      <td>1</td>\n",
       "      <td>0</td>\n",
       "      <td>113803</td>\n",
       "      <td>53.1000</td>\n",
       "      <td>C123</td>\n",
       "      <td>S</td>\n",
       "    </tr>\n",
       "    <tr>\n",
       "      <th>4</th>\n",
       "      <td>5</td>\n",
       "      <td>0</td>\n",
       "      <td>3</td>\n",
       "      <td>Allen, Mr. William Henry</td>\n",
       "      <td>male</td>\n",
       "      <td>35.0</td>\n",
       "      <td>0</td>\n",
       "      <td>0</td>\n",
       "      <td>373450</td>\n",
       "      <td>8.0500</td>\n",
       "      <td>NaN</td>\n",
       "      <td>S</td>\n",
       "    </tr>\n",
       "    <tr>\n",
       "      <th>5</th>\n",
       "      <td>6</td>\n",
       "      <td>0</td>\n",
       "      <td>3</td>\n",
       "      <td>Moran, Mr. James</td>\n",
       "      <td>male</td>\n",
       "      <td>NaN</td>\n",
       "      <td>0</td>\n",
       "      <td>0</td>\n",
       "      <td>330877</td>\n",
       "      <td>8.4583</td>\n",
       "      <td>NaN</td>\n",
       "      <td>Q</td>\n",
       "    </tr>\n",
       "    <tr>\n",
       "      <th>6</th>\n",
       "      <td>7</td>\n",
       "      <td>0</td>\n",
       "      <td>1</td>\n",
       "      <td>McCarthy, Mr. Timothy J</td>\n",
       "      <td>male</td>\n",
       "      <td>54.0</td>\n",
       "      <td>0</td>\n",
       "      <td>0</td>\n",
       "      <td>17463</td>\n",
       "      <td>51.8625</td>\n",
       "      <td>E46</td>\n",
       "      <td>S</td>\n",
       "    </tr>\n",
       "    <tr>\n",
       "      <th>7</th>\n",
       "      <td>8</td>\n",
       "      <td>0</td>\n",
       "      <td>3</td>\n",
       "      <td>Palsson, Master. Gosta Leonard</td>\n",
       "      <td>male</td>\n",
       "      <td>2.0</td>\n",
       "      <td>3</td>\n",
       "      <td>1</td>\n",
       "      <td>349909</td>\n",
       "      <td>21.0750</td>\n",
       "      <td>NaN</td>\n",
       "      <td>S</td>\n",
       "    </tr>\n",
       "    <tr>\n",
       "      <th>8</th>\n",
       "      <td>9</td>\n",
       "      <td>1</td>\n",
       "      <td>3</td>\n",
       "      <td>Johnson, Mrs. Oscar W (Elisabeth Vilhelmina Berg)</td>\n",
       "      <td>female</td>\n",
       "      <td>27.0</td>\n",
       "      <td>0</td>\n",
       "      <td>2</td>\n",
       "      <td>347742</td>\n",
       "      <td>11.1333</td>\n",
       "      <td>NaN</td>\n",
       "      <td>S</td>\n",
       "    </tr>\n",
       "    <tr>\n",
       "      <th>9</th>\n",
       "      <td>10</td>\n",
       "      <td>1</td>\n",
       "      <td>2</td>\n",
       "      <td>Nasser, Mrs. Nicholas (Adele Achem)</td>\n",
       "      <td>female</td>\n",
       "      <td>14.0</td>\n",
       "      <td>1</td>\n",
       "      <td>0</td>\n",
       "      <td>237736</td>\n",
       "      <td>30.0708</td>\n",
       "      <td>NaN</td>\n",
       "      <td>C</td>\n",
       "    </tr>\n",
       "  </tbody>\n",
       "</table>\n",
       "</div>"
      ],
      "text/plain": [
       "   PassengerId  Survived  Pclass  \\\n",
       "0            1         0       3   \n",
       "1            2         1       1   \n",
       "2            3         1       3   \n",
       "3            4         1       1   \n",
       "4            5         0       3   \n",
       "5            6         0       3   \n",
       "6            7         0       1   \n",
       "7            8         0       3   \n",
       "8            9         1       3   \n",
       "9           10         1       2   \n",
       "\n",
       "                                                Name     Sex   Age  SibSp  \\\n",
       "0                            Braund, Mr. Owen Harris    male  22.0      1   \n",
       "1  Cumings, Mrs. John Bradley (Florence Briggs Th...  female  38.0      1   \n",
       "2                             Heikkinen, Miss. Laina  female  26.0      0   \n",
       "3       Futrelle, Mrs. Jacques Heath (Lily May Peel)  female  35.0      1   \n",
       "4                           Allen, Mr. William Henry    male  35.0      0   \n",
       "5                                   Moran, Mr. James    male   NaN      0   \n",
       "6                            McCarthy, Mr. Timothy J    male  54.0      0   \n",
       "7                     Palsson, Master. Gosta Leonard    male   2.0      3   \n",
       "8  Johnson, Mrs. Oscar W (Elisabeth Vilhelmina Berg)  female  27.0      0   \n",
       "9                Nasser, Mrs. Nicholas (Adele Achem)  female  14.0      1   \n",
       "\n",
       "   Parch            Ticket     Fare Cabin Embarked  \n",
       "0      0         A/5 21171   7.2500   NaN        S  \n",
       "1      0          PC 17599  71.2833   C85        C  \n",
       "2      0  STON/O2. 3101282   7.9250   NaN        S  \n",
       "3      0            113803  53.1000  C123        S  \n",
       "4      0            373450   8.0500   NaN        S  \n",
       "5      0            330877   8.4583   NaN        Q  \n",
       "6      0             17463  51.8625   E46        S  \n",
       "7      1            349909  21.0750   NaN        S  \n",
       "8      2            347742  11.1333   NaN        S  \n",
       "9      0            237736  30.0708   NaN        C  "
      ]
     },
     "execution_count": 3,
     "metadata": {},
     "output_type": "execute_result"
    }
   ],
   "source": [
    "tnc.head(10)"
   ]
  },
  {
   "cell_type": "code",
   "execution_count": 4,
   "metadata": {},
   "outputs": [
    {
     "name": "stdout",
     "output_type": "stream",
     "text": [
      "<class 'pandas.core.frame.DataFrame'>\n",
      "RangeIndex: 891 entries, 0 to 890\n",
      "Data columns (total 12 columns):\n",
      " #   Column       Non-Null Count  Dtype  \n",
      "---  ------       --------------  -----  \n",
      " 0   PassengerId  891 non-null    int64  \n",
      " 1   Survived     891 non-null    int64  \n",
      " 2   Pclass       891 non-null    int64  \n",
      " 3   Name         891 non-null    object \n",
      " 4   Sex          891 non-null    object \n",
      " 5   Age          714 non-null    float64\n",
      " 6   SibSp        891 non-null    int64  \n",
      " 7   Parch        891 non-null    int64  \n",
      " 8   Ticket       891 non-null    object \n",
      " 9   Fare         891 non-null    float64\n",
      " 10  Cabin        204 non-null    object \n",
      " 11  Embarked     889 non-null    object \n",
      "dtypes: float64(2), int64(5), object(5)\n",
      "memory usage: 83.7+ KB\n"
     ]
    }
   ],
   "source": [
    "tnc.info()"
   ]
  },
  {
   "cell_type": "markdown",
   "metadata": {},
   "source": [
    "###  Preprocessing"
   ]
  },
  {
   "cell_type": "code",
   "execution_count": 5,
   "metadata": {},
   "outputs": [
    {
     "data": {
      "text/plain": [
       "PassengerId      0\n",
       "Survived         0\n",
       "Pclass           0\n",
       "Name             0\n",
       "Sex              0\n",
       "Age            177\n",
       "SibSp            0\n",
       "Parch            0\n",
       "Ticket           0\n",
       "Fare             0\n",
       "Cabin          687\n",
       "Embarked         2\n",
       "dtype: int64"
      ]
     },
     "execution_count": 5,
     "metadata": {},
     "output_type": "execute_result"
    }
   ],
   "source": [
    "tnc.isnull().sum()"
   ]
  },
  {
   "cell_type": "code",
   "execution_count": 6,
   "metadata": {},
   "outputs": [
    {
     "data": {
      "text/html": [
       "<div>\n",
       "<style scoped>\n",
       "    .dataframe tbody tr th:only-of-type {\n",
       "        vertical-align: middle;\n",
       "    }\n",
       "\n",
       "    .dataframe tbody tr th {\n",
       "        vertical-align: top;\n",
       "    }\n",
       "\n",
       "    .dataframe thead th {\n",
       "        text-align: right;\n",
       "    }\n",
       "</style>\n",
       "<table border=\"1\" class=\"dataframe\">\n",
       "  <thead>\n",
       "    <tr style=\"text-align: right;\">\n",
       "      <th></th>\n",
       "      <th>PassengerId</th>\n",
       "      <th>Pclass</th>\n",
       "      <th>SibSp</th>\n",
       "      <th>Parch</th>\n",
       "      <th>Fare</th>\n",
       "    </tr>\n",
       "  </thead>\n",
       "  <tbody>\n",
       "    <tr>\n",
       "      <th>0</th>\n",
       "      <td>1</td>\n",
       "      <td>3</td>\n",
       "      <td>1</td>\n",
       "      <td>0</td>\n",
       "      <td>7.2500</td>\n",
       "    </tr>\n",
       "    <tr>\n",
       "      <th>1</th>\n",
       "      <td>2</td>\n",
       "      <td>1</td>\n",
       "      <td>1</td>\n",
       "      <td>0</td>\n",
       "      <td>71.2833</td>\n",
       "    </tr>\n",
       "    <tr>\n",
       "      <th>2</th>\n",
       "      <td>3</td>\n",
       "      <td>3</td>\n",
       "      <td>0</td>\n",
       "      <td>0</td>\n",
       "      <td>7.9250</td>\n",
       "    </tr>\n",
       "    <tr>\n",
       "      <th>3</th>\n",
       "      <td>4</td>\n",
       "      <td>1</td>\n",
       "      <td>1</td>\n",
       "      <td>0</td>\n",
       "      <td>53.1000</td>\n",
       "    </tr>\n",
       "    <tr>\n",
       "      <th>4</th>\n",
       "      <td>5</td>\n",
       "      <td>3</td>\n",
       "      <td>0</td>\n",
       "      <td>0</td>\n",
       "      <td>8.0500</td>\n",
       "    </tr>\n",
       "    <tr>\n",
       "      <th>...</th>\n",
       "      <td>...</td>\n",
       "      <td>...</td>\n",
       "      <td>...</td>\n",
       "      <td>...</td>\n",
       "      <td>...</td>\n",
       "    </tr>\n",
       "    <tr>\n",
       "      <th>886</th>\n",
       "      <td>887</td>\n",
       "      <td>2</td>\n",
       "      <td>0</td>\n",
       "      <td>0</td>\n",
       "      <td>13.0000</td>\n",
       "    </tr>\n",
       "    <tr>\n",
       "      <th>887</th>\n",
       "      <td>888</td>\n",
       "      <td>1</td>\n",
       "      <td>0</td>\n",
       "      <td>0</td>\n",
       "      <td>30.0000</td>\n",
       "    </tr>\n",
       "    <tr>\n",
       "      <th>888</th>\n",
       "      <td>889</td>\n",
       "      <td>3</td>\n",
       "      <td>1</td>\n",
       "      <td>2</td>\n",
       "      <td>23.4500</td>\n",
       "    </tr>\n",
       "    <tr>\n",
       "      <th>889</th>\n",
       "      <td>890</td>\n",
       "      <td>1</td>\n",
       "      <td>0</td>\n",
       "      <td>0</td>\n",
       "      <td>30.0000</td>\n",
       "    </tr>\n",
       "    <tr>\n",
       "      <th>890</th>\n",
       "      <td>891</td>\n",
       "      <td>3</td>\n",
       "      <td>0</td>\n",
       "      <td>0</td>\n",
       "      <td>7.7500</td>\n",
       "    </tr>\n",
       "  </tbody>\n",
       "</table>\n",
       "<p>891 rows × 5 columns</p>\n",
       "</div>"
      ],
      "text/plain": [
       "     PassengerId  Pclass  SibSp  Parch     Fare\n",
       "0              1       3      1      0   7.2500\n",
       "1              2       1      1      0  71.2833\n",
       "2              3       3      0      0   7.9250\n",
       "3              4       1      1      0  53.1000\n",
       "4              5       3      0      0   8.0500\n",
       "..           ...     ...    ...    ...      ...\n",
       "886          887       2      0      0  13.0000\n",
       "887          888       1      0      0  30.0000\n",
       "888          889       3      1      2  23.4500\n",
       "889          890       1      0      0  30.0000\n",
       "890          891       3      0      0   7.7500\n",
       "\n",
       "[891 rows x 5 columns]"
      ]
     },
     "execution_count": 6,
     "metadata": {},
     "output_type": "execute_result"
    }
   ],
   "source": [
    "ttnc = tnc[[\"PassengerId\",\"Pclass\",\"SibSp\",\"Parch\",\"Fare\"]]\n",
    "ttnc"
   ]
  },
  {
   "cell_type": "code",
   "execution_count": 7,
   "metadata": {},
   "outputs": [],
   "source": [
    "from sklearn.preprocessing import LabelEncoder\n",
    "le = LabelEncoder()"
   ]
  },
  {
   "cell_type": "code",
   "execution_count": 8,
   "metadata": {},
   "outputs": [],
   "source": [
    "le.fit_transform(tnc[\"Sex\"])\n",
    "ttnc[\"Sex_enc\"] = le.fit_transform(tnc[\"Sex\"])\n",
    "le.fit_transform(tnc[\"Ticket\"])\n",
    "ttnc[\"Ticket_enc\"] = le.fit_transform(tnc[\"Ticket\"])"
   ]
  },
  {
   "cell_type": "code",
   "execution_count": 9,
   "metadata": {},
   "outputs": [],
   "source": [
    "ttnc[\"survived\"] = tnc[\"Survived\"]"
   ]
  },
  {
   "cell_type": "code",
   "execution_count": 10,
   "metadata": {},
   "outputs": [
    {
     "name": "stdout",
     "output_type": "stream",
     "text": [
      "<class 'pandas.core.frame.DataFrame'>\n",
      "RangeIndex: 891 entries, 0 to 890\n",
      "Data columns (total 8 columns):\n",
      " #   Column       Non-Null Count  Dtype  \n",
      "---  ------       --------------  -----  \n",
      " 0   PassengerId  891 non-null    int64  \n",
      " 1   Pclass       891 non-null    int64  \n",
      " 2   SibSp        891 non-null    int64  \n",
      " 3   Parch        891 non-null    int64  \n",
      " 4   Fare         891 non-null    float64\n",
      " 5   Sex_enc      891 non-null    int32  \n",
      " 6   Ticket_enc   891 non-null    int32  \n",
      " 7   survived     891 non-null    int64  \n",
      "dtypes: float64(1), int32(2), int64(5)\n",
      "memory usage: 48.9 KB\n"
     ]
    }
   ],
   "source": [
    "ttnc.info()"
   ]
  },
  {
   "cell_type": "code",
   "execution_count": 11,
   "metadata": {},
   "outputs": [
    {
     "data": {
      "text/plain": [
       "PassengerId    0\n",
       "Pclass         0\n",
       "SibSp          0\n",
       "Parch          0\n",
       "Fare           0\n",
       "Sex_enc        0\n",
       "Ticket_enc     0\n",
       "survived       0\n",
       "dtype: int64"
      ]
     },
     "execution_count": 11,
     "metadata": {},
     "output_type": "execute_result"
    }
   ],
   "source": [
    "ttnc.isnull().sum()"
   ]
  },
  {
   "cell_type": "markdown",
   "metadata": {},
   "source": [
    "### Spliting"
   ]
  },
  {
   "cell_type": "code",
   "execution_count": 12,
   "metadata": {},
   "outputs": [],
   "source": [
    "X = ttnc.iloc[:,:-1]\n",
    "y = ttnc.iloc[:,-1]"
   ]
  },
  {
   "cell_type": "code",
   "execution_count": 13,
   "metadata": {},
   "outputs": [],
   "source": [
    "X_train, X_test, y_train, y_test = train_test_split(X,y,test_size = 0.3,random_state = 1)"
   ]
  },
  {
   "cell_type": "code",
   "execution_count": 14,
   "metadata": {},
   "outputs": [],
   "source": [
    "def train_model(model):\n",
    "    model.fit(X_train,y_train)\n",
    "    y_pred = model.predict(X_test)\n",
    "    print(classification_report(y_test,y_pred))\n",
    "    \n",
    "    return model"
   ]
  },
  {
   "cell_type": "markdown",
   "metadata": {},
   "source": [
    "## Baseline model"
   ]
  },
  {
   "cell_type": "code",
   "execution_count": 15,
   "metadata": {},
   "outputs": [],
   "source": [
    "log = LogisticRegression()"
   ]
  },
  {
   "cell_type": "code",
   "execution_count": 16,
   "metadata": {},
   "outputs": [
    {
     "name": "stdout",
     "output_type": "stream",
     "text": [
      "              precision    recall  f1-score   support\n",
      "\n",
      "           0       0.76      0.86      0.80       153\n",
      "           1       0.77      0.63      0.70       115\n",
      "\n",
      "    accuracy                           0.76       268\n",
      "   macro avg       0.76      0.75      0.75       268\n",
      "weighted avg       0.76      0.76      0.76       268\n",
      "\n"
     ]
    },
    {
     "data": {
      "text/plain": [
       "LogisticRegression(C=1.0, class_weight=None, dual=False, fit_intercept=True,\n",
       "                   intercept_scaling=1, l1_ratio=None, max_iter=100,\n",
       "                   multi_class='auto', n_jobs=None, penalty='l2',\n",
       "                   random_state=None, solver='lbfgs', tol=0.0001, verbose=0,\n",
       "                   warm_start=False)"
      ]
     },
     "execution_count": 16,
     "metadata": {},
     "output_type": "execute_result"
    }
   ],
   "source": [
    "train_model(log)"
   ]
  },
  {
   "cell_type": "markdown",
   "metadata": {},
   "source": [
    "## Decision Tree "
   ]
  },
  {
   "cell_type": "code",
   "execution_count": 17,
   "metadata": {},
   "outputs": [],
   "source": [
    "dt1 = DecisionTreeClassifier()"
   ]
  },
  {
   "cell_type": "code",
   "execution_count": 18,
   "metadata": {},
   "outputs": [
    {
     "name": "stdout",
     "output_type": "stream",
     "text": [
      "              precision    recall  f1-score   support\n",
      "\n",
      "           0       0.79      0.87      0.83       153\n",
      "           1       0.80      0.70      0.74       115\n",
      "\n",
      "    accuracy                           0.79       268\n",
      "   macro avg       0.80      0.78      0.79       268\n",
      "weighted avg       0.80      0.79      0.79       268\n",
      "\n"
     ]
    }
   ],
   "source": [
    "dt1 = train_model(dt1)"
   ]
  },
  {
   "cell_type": "code",
   "execution_count": 19,
   "metadata": {},
   "outputs": [
    {
     "data": {
      "text/plain": [
       "array([0.17493073, 0.10549672, 0.00965684, 0.03698208, 0.13283667,\n",
       "       0.32100818, 0.21908878])"
      ]
     },
     "execution_count": 19,
     "metadata": {},
     "output_type": "execute_result"
    }
   ],
   "source": [
    "dt1.feature_importances_"
   ]
  },
  {
   "cell_type": "code",
   "execution_count": 20,
   "metadata": {},
   "outputs": [
    {
     "name": "stdout",
     "output_type": "stream",
     "text": [
      "['PassengerId', 'Pclass', 'SibSp', 'Parch', 'Fare', 'Sex_enc', 'Ticket_enc', 'survived']\n"
     ]
    }
   ],
   "source": [
    "print(ttnc.columns.tolist())"
   ]
  },
  {
   "cell_type": "code",
   "execution_count": 21,
   "metadata": {},
   "outputs": [],
   "source": [
    "from sklearn import tree"
   ]
  },
  {
   "cell_type": "code",
   "execution_count": 22,
   "metadata": {},
   "outputs": [
    {
     "data": {
      "text/plain": [
       "[Text(142.07864815848214, 211.4, 'X[5] <= 0.5\\ngini = 0.463\\nsamples = 623\\nvalue = [396, 227]'),\n",
       " Text(38.39363839285714, 199.32, 'X[1] <= 2.5\\ngini = 0.387\\nsamples = 217\\nvalue = [57, 160]'),\n",
       " Text(20.925, 187.24, 'X[4] <= 28.856\\ngini = 0.097\\nsamples = 117\\nvalue = [6, 111]'),\n",
       " Text(14.946428571428571, 175.16, 'X[4] <= 28.231\\ngini = 0.201\\nsamples = 44\\nvalue = [5, 39]'),\n",
       " Text(11.957142857142857, 163.07999999999998, 'X[6] <= 167.5\\ngini = 0.169\\nsamples = 43\\nvalue = [4, 39]'),\n",
       " Text(8.967857142857143, 151.0, 'X[6] <= 130.5\\ngini = 0.308\\nsamples = 21\\nvalue = [4, 17]'),\n",
       " Text(5.978571428571429, 138.92000000000002, 'gini = 0.0\\nsamples = 12\\nvalue = [0, 12]'),\n",
       " Text(11.957142857142857, 138.92000000000002, 'X[6] <= 135.5\\ngini = 0.494\\nsamples = 9\\nvalue = [4, 5]'),\n",
       " Text(8.967857142857143, 126.84, 'gini = 0.0\\nsamples = 1\\nvalue = [1, 0]'),\n",
       " Text(14.946428571428571, 126.84, 'X[6] <= 166.0\\ngini = 0.469\\nsamples = 8\\nvalue = [3, 5]'),\n",
       " Text(11.957142857142857, 114.75999999999999, 'X[0] <= 801.5\\ngini = 0.408\\nsamples = 7\\nvalue = [2, 5]'),\n",
       " Text(8.967857142857143, 102.67999999999999, 'X[0] <= 236.5\\ngini = 0.278\\nsamples = 6\\nvalue = [1, 5]'),\n",
       " Text(5.978571428571429, 90.6, 'X[4] <= 14.5\\ngini = 0.5\\nsamples = 2\\nvalue = [1, 1]'),\n",
       " Text(2.9892857142857143, 78.52000000000001, 'gini = 0.0\\nsamples = 1\\nvalue = [1, 0]'),\n",
       " Text(8.967857142857143, 78.52000000000001, 'gini = 0.0\\nsamples = 1\\nvalue = [0, 1]'),\n",
       " Text(11.957142857142857, 90.6, 'gini = 0.0\\nsamples = 4\\nvalue = [0, 4]'),\n",
       " Text(14.946428571428571, 102.67999999999999, 'gini = 0.0\\nsamples = 1\\nvalue = [1, 0]'),\n",
       " Text(17.935714285714287, 114.75999999999999, 'gini = 0.0\\nsamples = 1\\nvalue = [1, 0]'),\n",
       " Text(14.946428571428571, 151.0, 'gini = 0.0\\nsamples = 22\\nvalue = [0, 22]'),\n",
       " Text(17.935714285714287, 163.07999999999998, 'gini = 0.0\\nsamples = 1\\nvalue = [1, 0]'),\n",
       " Text(26.90357142857143, 175.16, 'X[3] <= 1.5\\ngini = 0.027\\nsamples = 73\\nvalue = [1, 72]'),\n",
       " Text(23.914285714285715, 163.07999999999998, 'gini = 0.0\\nsamples = 63\\nvalue = [0, 63]'),\n",
       " Text(29.892857142857142, 163.07999999999998, 'X[6] <= 56.0\\ngini = 0.18\\nsamples = 10\\nvalue = [1, 9]'),\n",
       " Text(26.90357142857143, 151.0, 'X[4] <= 135.775\\ngini = 0.5\\nsamples = 2\\nvalue = [1, 1]'),\n",
       " Text(23.914285714285715, 138.92000000000002, 'gini = 0.0\\nsamples = 1\\nvalue = [0, 1]'),\n",
       " Text(29.892857142857142, 138.92000000000002, 'gini = 0.0\\nsamples = 1\\nvalue = [1, 0]'),\n",
       " Text(32.88214285714286, 151.0, 'gini = 0.0\\nsamples = 8\\nvalue = [0, 8]'),\n",
       " Text(55.862276785714286, 187.24, 'X[4] <= 24.808\\ngini = 0.5\\nsamples = 100\\nvalue = [51, 49]'),\n",
       " Text(48.20223214285714, 175.16, 'X[6] <= 300.5\\ngini = 0.492\\nsamples = 85\\nvalue = [37, 48]'),\n",
       " Text(41.85, 163.07999999999998, 'X[6] <= 276.5\\ngini = 0.355\\nsamples = 26\\nvalue = [6, 20]'),\n",
       " Text(38.86071428571429, 151.0, 'X[4] <= 15.494\\ngini = 0.457\\nsamples = 17\\nvalue = [6, 11]'),\n",
       " Text(35.871428571428574, 138.92000000000002, 'X[4] <= 12.848\\ngini = 0.496\\nsamples = 11\\nvalue = [6, 5]'),\n",
       " Text(32.88214285714286, 126.84, 'X[6] <= 254.0\\ngini = 0.408\\nsamples = 7\\nvalue = [2, 5]'),\n",
       " Text(29.892857142857142, 114.75999999999999, 'gini = 0.0\\nsamples = 5\\nvalue = [0, 5]'),\n",
       " Text(35.871428571428574, 114.75999999999999, 'gini = 0.0\\nsamples = 2\\nvalue = [2, 0]'),\n",
       " Text(38.86071428571429, 126.84, 'gini = 0.0\\nsamples = 4\\nvalue = [4, 0]'),\n",
       " Text(41.85, 138.92000000000002, 'gini = 0.0\\nsamples = 6\\nvalue = [0, 6]'),\n",
       " Text(44.839285714285715, 151.0, 'gini = 0.0\\nsamples = 9\\nvalue = [0, 9]'),\n",
       " Text(54.55446428571429, 163.07999999999998, 'X[6] <= 331.5\\ngini = 0.499\\nsamples = 59\\nvalue = [31, 28]'),\n",
       " Text(51.565178571428575, 151.0, 'gini = 0.0\\nsamples = 8\\nvalue = [8, 0]'),\n",
       " Text(57.54375, 151.0, 'X[6] <= 630.5\\ngini = 0.495\\nsamples = 51\\nvalue = [23, 28]'),\n",
       " Text(54.55446428571429, 138.92000000000002, 'X[4] <= 7.744\\ngini = 0.486\\nsamples = 48\\nvalue = [20, 28]'),\n",
       " Text(51.565178571428575, 126.84, 'gini = 0.0\\nsamples = 4\\nvalue = [0, 4]'),\n",
       " Text(57.54375, 126.84, 'X[4] <= 9.84\\ngini = 0.496\\nsamples = 44\\nvalue = [20, 24]'),\n",
       " Text(41.85, 114.75999999999999, 'X[0] <= 128.0\\ngini = 0.472\\nsamples = 21\\nvalue = [13, 8]'),\n",
       " Text(38.86071428571429, 102.67999999999999, 'gini = 0.0\\nsamples = 4\\nvalue = [4, 0]'),\n",
       " Text(44.839285714285715, 102.67999999999999, 'X[0] <= 237.0\\ngini = 0.498\\nsamples = 17\\nvalue = [9, 8]'),\n",
       " Text(41.85, 90.6, 'gini = 0.0\\nsamples = 4\\nvalue = [0, 4]'),\n",
       " Text(47.82857142857143, 90.6, 'X[6] <= 511.0\\ngini = 0.426\\nsamples = 13\\nvalue = [9, 4]'),\n",
       " Text(44.839285714285715, 78.52000000000001, 'X[3] <= 0.5\\ngini = 0.375\\nsamples = 12\\nvalue = [9, 3]'),\n",
       " Text(41.85, 66.44, 'X[6] <= 359.5\\ngini = 0.298\\nsamples = 11\\nvalue = [9, 2]'),\n",
       " Text(35.871428571428574, 54.359999999999985, 'X[4] <= 7.815\\ngini = 0.5\\nsamples = 2\\nvalue = [1, 1]'),\n",
       " Text(32.88214285714286, 42.28, 'gini = 0.0\\nsamples = 1\\nvalue = [1, 0]'),\n",
       " Text(38.86071428571429, 42.28, 'gini = 0.0\\nsamples = 1\\nvalue = [0, 1]'),\n",
       " Text(47.82857142857143, 54.359999999999985, 'X[4] <= 9.219\\ngini = 0.198\\nsamples = 9\\nvalue = [8, 1]'),\n",
       " Text(44.839285714285715, 42.28, 'gini = 0.0\\nsamples = 5\\nvalue = [5, 0]'),\n",
       " Text(50.81785714285714, 42.28, 'X[6] <= 489.5\\ngini = 0.375\\nsamples = 4\\nvalue = [3, 1]'),\n",
       " Text(47.82857142857143, 30.19999999999999, 'gini = 0.0\\nsamples = 1\\nvalue = [0, 1]'),\n",
       " Text(53.80714285714286, 30.19999999999999, 'gini = 0.0\\nsamples = 3\\nvalue = [3, 0]'),\n",
       " Text(47.82857142857143, 66.44, 'gini = 0.0\\nsamples = 1\\nvalue = [0, 1]'),\n",
       " Text(50.81785714285714, 78.52000000000001, 'gini = 0.0\\nsamples = 1\\nvalue = [0, 1]'),\n",
       " Text(73.2375, 114.75999999999999, 'X[2] <= 2.5\\ngini = 0.423\\nsamples = 23\\nvalue = [7, 16]'),\n",
       " Text(70.24821428571428, 102.67999999999999, 'X[3] <= 1.5\\ngini = 0.363\\nsamples = 21\\nvalue = [5, 16]'),\n",
       " Text(62.775, 90.6, 'X[6] <= 514.5\\ngini = 0.278\\nsamples = 18\\nvalue = [3, 15]'),\n",
       " Text(56.79642857142857, 78.52000000000001, 'X[0] <= 635.5\\ngini = 0.133\\nsamples = 14\\nvalue = [1, 13]'),\n",
       " Text(53.80714285714286, 66.44, 'gini = 0.0\\nsamples = 9\\nvalue = [0, 9]'),\n",
       " Text(59.785714285714285, 66.44, 'X[0] <= 668.0\\ngini = 0.32\\nsamples = 5\\nvalue = [1, 4]'),\n",
       " Text(56.79642857142857, 54.359999999999985, 'gini = 0.0\\nsamples = 1\\nvalue = [1, 0]'),\n",
       " Text(62.775, 54.359999999999985, 'gini = 0.0\\nsamples = 4\\nvalue = [0, 4]'),\n",
       " Text(68.75357142857143, 78.52000000000001, 'X[4] <= 16.4\\ngini = 0.5\\nsamples = 4\\nvalue = [2, 2]'),\n",
       " Text(65.76428571428572, 66.44, 'gini = 0.0\\nsamples = 2\\nvalue = [2, 0]'),\n",
       " Text(71.74285714285715, 66.44, 'gini = 0.0\\nsamples = 2\\nvalue = [0, 2]'),\n",
       " Text(77.72142857142858, 90.6, 'X[4] <= 18.456\\ngini = 0.444\\nsamples = 3\\nvalue = [2, 1]'),\n",
       " Text(74.73214285714286, 78.52000000000001, 'gini = 0.0\\nsamples = 1\\nvalue = [0, 1]'),\n",
       " Text(80.71071428571429, 78.52000000000001, 'gini = 0.0\\nsamples = 2\\nvalue = [2, 0]'),\n",
       " Text(76.22678571428571, 102.67999999999999, 'gini = 0.0\\nsamples = 2\\nvalue = [2, 0]'),\n",
       " Text(60.53303571428572, 138.92000000000002, 'gini = 0.0\\nsamples = 3\\nvalue = [3, 0]'),\n",
       " Text(63.52232142857143, 175.16, 'X[0] <= 49.0\\ngini = 0.124\\nsamples = 15\\nvalue = [14, 1]'),\n",
       " Text(60.53303571428572, 163.07999999999998, 'gini = 0.0\\nsamples = 1\\nvalue = [0, 1]'),\n",
       " Text(66.51160714285714, 163.07999999999998, 'gini = 0.0\\nsamples = 14\\nvalue = [14, 0]'),\n",
       " Text(245.76365792410715, 199.32, 'X[4] <= 26.144\\ngini = 0.276\\nsamples = 406\\nvalue = [339, 67]'),\n",
       " Text(197.45633370535714, 187.24, 'X[3] <= 0.5\\ngini = 0.209\\nsamples = 303\\nvalue = [267, 36]'),\n",
       " Text(175.2001674107143, 175.16, 'X[6] <= 659.5\\ngini = 0.164\\nsamples = 278\\nvalue = [253, 25]'),\n",
       " Text(153.10747767857143, 163.07999999999998, 'X[0] <= 573.0\\ngini = 0.143\\nsamples = 270\\nvalue = [249, 21]'),\n",
       " Text(131.34174107142857, 151.0, 'X[0] <= 569.5\\ngini = 0.191\\nsamples = 168\\nvalue = [150, 18]'),\n",
       " Text(128.35245535714287, 138.92000000000002, 'X[6] <= 498.5\\ngini = 0.183\\nsamples = 167\\nvalue = [150, 17]'),\n",
       " Text(110.22991071428572, 126.84, 'X[0] <= 40.0\\ngini = 0.126\\nsamples = 118\\nvalue = [110, 8]'),\n",
       " Text(95.65714285714286, 114.75999999999999, 'X[0] <= 33.5\\ngini = 0.408\\nsamples = 7\\nvalue = [5, 2]'),\n",
       " Text(92.66785714285714, 102.67999999999999, 'X[6] <= 165.5\\ngini = 0.278\\nsamples = 6\\nvalue = [5, 1]'),\n",
       " Text(89.67857142857143, 90.6, 'X[6] <= 145.5\\ngini = 0.5\\nsamples = 2\\nvalue = [1, 1]'),\n",
       " Text(86.68928571428572, 78.52000000000001, 'gini = 0.0\\nsamples = 1\\nvalue = [1, 0]'),\n",
       " Text(92.66785714285714, 78.52000000000001, 'gini = 0.0\\nsamples = 1\\nvalue = [0, 1]'),\n",
       " Text(95.65714285714286, 90.6, 'gini = 0.0\\nsamples = 4\\nvalue = [4, 0]'),\n",
       " Text(98.64642857142857, 102.67999999999999, 'gini = 0.0\\nsamples = 1\\nvalue = [0, 1]'),\n",
       " Text(124.80267857142857, 114.75999999999999, 'X[0] <= 553.5\\ngini = 0.102\\nsamples = 111\\nvalue = [105, 6]'),\n",
       " Text(115.0875, 102.67999999999999, 'X[6] <= 378.5\\ngini = 0.091\\nsamples = 105\\nvalue = [100, 5]'),\n",
       " Text(104.625, 90.6, 'X[6] <= 134.5\\ngini = 0.051\\nsamples = 76\\nvalue = [74, 2]'),\n",
       " Text(98.64642857142857, 78.52000000000001, 'X[6] <= 131.0\\ngini = 0.219\\nsamples = 8\\nvalue = [7, 1]'),\n",
       " Text(95.65714285714286, 66.44, 'gini = 0.0\\nsamples = 7\\nvalue = [7, 0]'),\n",
       " Text(101.63571428571429, 66.44, 'gini = 0.0\\nsamples = 1\\nvalue = [0, 1]'),\n",
       " Text(110.60357142857143, 78.52000000000001, 'X[6] <= 307.0\\ngini = 0.029\\nsamples = 68\\nvalue = [67, 1]'),\n",
       " Text(107.61428571428571, 66.44, 'gini = 0.0\\nsamples = 46\\nvalue = [46, 0]'),\n",
       " Text(113.59285714285714, 66.44, 'X[6] <= 309.0\\ngini = 0.087\\nsamples = 22\\nvalue = [21, 1]'),\n",
       " Text(110.60357142857143, 54.359999999999985, 'gini = 0.0\\nsamples = 1\\nvalue = [0, 1]'),\n",
       " Text(116.58214285714286, 54.359999999999985, 'gini = 0.0\\nsamples = 21\\nvalue = [21, 0]'),\n",
       " Text(125.55, 90.6, 'X[6] <= 379.5\\ngini = 0.185\\nsamples = 29\\nvalue = [26, 3]'),\n",
       " Text(122.56071428571428, 78.52000000000001, 'gini = 0.0\\nsamples = 1\\nvalue = [0, 1]'),\n",
       " Text(128.5392857142857, 78.52000000000001, 'X[6] <= 407.5\\ngini = 0.133\\nsamples = 28\\nvalue = [26, 2]'),\n",
       " Text(125.55, 66.44, 'X[6] <= 396.5\\ngini = 0.375\\nsamples = 8\\nvalue = [6, 2]'),\n",
       " Text(122.56071428571428, 54.359999999999985, 'gini = 0.0\\nsamples = 5\\nvalue = [5, 0]'),\n",
       " Text(128.5392857142857, 54.359999999999985, 'X[0] <= 446.0\\ngini = 0.444\\nsamples = 3\\nvalue = [1, 2]'),\n",
       " Text(125.55, 42.28, 'gini = 0.0\\nsamples = 2\\nvalue = [0, 2]'),\n",
       " Text(131.52857142857144, 42.28, 'gini = 0.0\\nsamples = 1\\nvalue = [1, 0]'),\n",
       " Text(131.52857142857144, 66.44, 'gini = 0.0\\nsamples = 20\\nvalue = [20, 0]'),\n",
       " Text(134.51785714285714, 102.67999999999999, 'X[4] <= 7.227\\ngini = 0.278\\nsamples = 6\\nvalue = [5, 1]'),\n",
       " Text(131.52857142857144, 90.6, 'gini = 0.0\\nsamples = 1\\nvalue = [0, 1]'),\n",
       " Text(137.50714285714287, 90.6, 'gini = 0.0\\nsamples = 5\\nvalue = [5, 0]'),\n",
       " Text(146.475, 126.84, 'X[0] <= 547.0\\ngini = 0.3\\nsamples = 49\\nvalue = [40, 9]'),\n",
       " Text(143.4857142857143, 114.75999999999999, 'X[6] <= 500.0\\ngini = 0.278\\nsamples = 48\\nvalue = [40, 8]'),\n",
       " Text(140.49642857142857, 102.67999999999999, 'gini = 0.0\\nsamples = 1\\nvalue = [0, 1]'),\n",
       " Text(146.475, 102.67999999999999, 'X[4] <= 8.104\\ngini = 0.254\\nsamples = 47\\nvalue = [40, 7]'),\n",
       " Text(143.4857142857143, 90.6, 'X[6] <= 512.0\\ngini = 0.342\\nsamples = 32\\nvalue = [25, 7]'),\n",
       " Text(140.49642857142857, 78.52000000000001, 'gini = 0.0\\nsamples = 1\\nvalue = [0, 1]'),\n",
       " Text(146.475, 78.52000000000001, 'X[6] <= 529.0\\ngini = 0.312\\nsamples = 31\\nvalue = [25, 6]'),\n",
       " Text(143.4857142857143, 66.44, 'gini = 0.0\\nsamples = 10\\nvalue = [10, 0]'),\n",
       " Text(149.46428571428572, 66.44, 'X[6] <= 542.5\\ngini = 0.408\\nsamples = 21\\nvalue = [15, 6]'),\n",
       " Text(141.99107142857142, 54.359999999999985, 'X[0] <= 70.5\\ngini = 0.48\\nsamples = 5\\nvalue = [2, 3]'),\n",
       " Text(139.00178571428572, 42.28, 'gini = 0.0\\nsamples = 1\\nvalue = [1, 0]'),\n",
       " Text(144.98035714285714, 42.28, 'X[0] <= 383.5\\ngini = 0.375\\nsamples = 4\\nvalue = [1, 3]'),\n",
       " Text(141.99107142857142, 30.19999999999999, 'gini = 0.0\\nsamples = 3\\nvalue = [0, 3]'),\n",
       " Text(147.96964285714287, 30.19999999999999, 'gini = 0.0\\nsamples = 1\\nvalue = [1, 0]'),\n",
       " Text(156.9375, 54.359999999999985, 'X[0] <= 216.0\\ngini = 0.305\\nsamples = 16\\nvalue = [13, 3]'),\n",
       " Text(153.9482142857143, 42.28, 'gini = 0.0\\nsamples = 7\\nvalue = [7, 0]'),\n",
       " Text(159.92678571428573, 42.28, 'X[4] <= 7.65\\ngini = 0.444\\nsamples = 9\\nvalue = [6, 3]'),\n",
       " Text(153.9482142857143, 30.19999999999999, 'X[4] <= 3.525\\ngini = 0.278\\nsamples = 6\\nvalue = [5, 1]'),\n",
       " Text(150.95892857142857, 18.120000000000005, 'X[0] <= 287.5\\ngini = 0.5\\nsamples = 2\\nvalue = [1, 1]'),\n",
       " Text(147.96964285714287, 6.039999999999992, 'gini = 0.0\\nsamples = 1\\nvalue = [0, 1]'),\n",
       " Text(153.9482142857143, 6.039999999999992, 'gini = 0.0\\nsamples = 1\\nvalue = [1, 0]'),\n",
       " Text(156.9375, 18.120000000000005, 'gini = 0.0\\nsamples = 4\\nvalue = [4, 0]'),\n",
       " Text(165.90535714285716, 30.19999999999999, 'X[0] <= 471.0\\ngini = 0.444\\nsamples = 3\\nvalue = [1, 2]'),\n",
       " Text(162.91607142857143, 18.120000000000005, 'gini = 0.0\\nsamples = 2\\nvalue = [0, 2]'),\n",
       " Text(168.89464285714286, 18.120000000000005, 'gini = 0.0\\nsamples = 1\\nvalue = [1, 0]'),\n",
       " Text(149.46428571428572, 90.6, 'gini = 0.0\\nsamples = 15\\nvalue = [15, 0]'),\n",
       " Text(149.46428571428572, 114.75999999999999, 'gini = 0.0\\nsamples = 1\\nvalue = [0, 1]'),\n",
       " Text(134.3310267857143, 138.92000000000002, 'gini = 0.0\\nsamples = 1\\nvalue = [0, 1]'),\n",
       " Text(174.87321428571428, 151.0, 'X[4] <= 7.24\\ngini = 0.057\\nsamples = 102\\nvalue = [99, 3]'),\n",
       " Text(164.41071428571428, 138.92000000000002, 'X[4] <= 7.227\\ngini = 0.18\\nsamples = 20\\nvalue = [18, 2]'),\n",
       " Text(158.43214285714285, 126.84, 'X[0] <= 795.0\\ngini = 0.111\\nsamples = 17\\nvalue = [16, 1]'),\n",
       " Text(155.44285714285715, 114.75999999999999, 'gini = 0.0\\nsamples = 10\\nvalue = [10, 0]'),\n",
       " Text(161.42142857142858, 114.75999999999999, 'X[0] <= 806.0\\ngini = 0.245\\nsamples = 7\\nvalue = [6, 1]'),\n",
       " Text(158.43214285714285, 102.67999999999999, 'gini = 0.0\\nsamples = 1\\nvalue = [0, 1]'),\n",
       " Text(164.41071428571428, 102.67999999999999, 'gini = 0.0\\nsamples = 6\\nvalue = [6, 0]'),\n",
       " Text(170.3892857142857, 126.84, 'X[0] <= 781.0\\ngini = 0.444\\nsamples = 3\\nvalue = [2, 1]'),\n",
       " Text(167.4, 114.75999999999999, 'gini = 0.0\\nsamples = 1\\nvalue = [0, 1]'),\n",
       " Text(173.37857142857143, 114.75999999999999, 'gini = 0.0\\nsamples = 2\\nvalue = [2, 0]'),\n",
       " Text(185.3357142857143, 138.92000000000002, 'X[6] <= 149.5\\ngini = 0.024\\nsamples = 82\\nvalue = [81, 1]'),\n",
       " Text(182.34642857142856, 126.84, 'X[6] <= 142.0\\ngini = 0.153\\nsamples = 12\\nvalue = [11, 1]'),\n",
       " Text(179.35714285714286, 114.75999999999999, 'gini = 0.0\\nsamples = 11\\nvalue = [11, 0]'),\n",
       " Text(185.3357142857143, 114.75999999999999, 'gini = 0.0\\nsamples = 1\\nvalue = [0, 1]'),\n",
       " Text(188.325, 126.84, 'gini = 0.0\\nsamples = 70\\nvalue = [70, 0]'),\n",
       " Text(197.29285714285714, 163.07999999999998, 'X[6] <= 663.5\\ngini = 0.5\\nsamples = 8\\nvalue = [4, 4]'),\n",
       " Text(194.30357142857144, 151.0, 'gini = 0.0\\nsamples = 3\\nvalue = [0, 3]'),\n",
       " Text(200.28214285714287, 151.0, 'X[1] <= 2.5\\ngini = 0.32\\nsamples = 5\\nvalue = [4, 1]'),\n",
       " Text(197.29285714285714, 138.92000000000002, 'X[0] <= 223.5\\ngini = 0.5\\nsamples = 2\\nvalue = [1, 1]'),\n",
       " Text(194.30357142857144, 126.84, 'gini = 0.0\\nsamples = 1\\nvalue = [1, 0]'),\n",
       " Text(200.28214285714287, 126.84, 'gini = 0.0\\nsamples = 1\\nvalue = [0, 1]'),\n",
       " Text(203.27142857142857, 138.92000000000002, 'gini = 0.0\\nsamples = 3\\nvalue = [3, 0]'),\n",
       " Text(219.7125, 175.16, 'X[1] <= 2.5\\ngini = 0.493\\nsamples = 25\\nvalue = [14, 11]'),\n",
       " Text(216.72321428571428, 163.07999999999998, 'gini = 0.0\\nsamples = 4\\nvalue = [0, 4]'),\n",
       " Text(222.7017857142857, 163.07999999999998, 'X[0] <= 786.5\\ngini = 0.444\\nsamples = 21\\nvalue = [14, 7]'),\n",
       " Text(219.7125, 151.0, 'X[6] <= 556.5\\ngini = 0.388\\nsamples = 19\\nvalue = [14, 5]'),\n",
       " Text(212.23928571428573, 138.92000000000002, 'X[0] <= 663.5\\ngini = 0.305\\nsamples = 16\\nvalue = [13, 3]'),\n",
       " Text(206.2607142857143, 126.84, 'X[3] <= 1.5\\ngini = 0.142\\nsamples = 13\\nvalue = [12, 1]'),\n",
       " Text(203.27142857142857, 114.75999999999999, 'gini = 0.0\\nsamples = 10\\nvalue = [10, 0]'),\n",
       " Text(209.25, 114.75999999999999, 'X[6] <= 480.5\\ngini = 0.444\\nsamples = 3\\nvalue = [2, 1]'),\n",
       " Text(206.2607142857143, 102.67999999999999, 'gini = 0.0\\nsamples = 1\\nvalue = [0, 1]'),\n",
       " Text(212.23928571428573, 102.67999999999999, 'gini = 0.0\\nsamples = 2\\nvalue = [2, 0]'),\n",
       " Text(218.21785714285716, 126.84, 'X[4] <= 17.748\\ngini = 0.444\\nsamples = 3\\nvalue = [1, 2]'),\n",
       " Text(215.22857142857143, 114.75999999999999, 'gini = 0.0\\nsamples = 2\\nvalue = [0, 2]'),\n",
       " Text(221.20714285714286, 114.75999999999999, 'gini = 0.0\\nsamples = 1\\nvalue = [1, 0]'),\n",
       " Text(227.18571428571428, 138.92000000000002, 'X[0] <= 637.0\\ngini = 0.444\\nsamples = 3\\nvalue = [1, 2]'),\n",
       " Text(224.19642857142858, 126.84, 'gini = 0.0\\nsamples = 2\\nvalue = [0, 2]'),\n",
       " Text(230.175, 126.84, 'gini = 0.0\\nsamples = 1\\nvalue = [1, 0]'),\n",
       " Text(225.69107142857143, 151.0, 'gini = 0.0\\nsamples = 2\\nvalue = [0, 2]'),\n",
       " Text(294.07098214285713, 187.24, 'X[0] <= 565.5\\ngini = 0.421\\nsamples = 103\\nvalue = [72, 31]'),\n",
       " Text(269.78303571428575, 175.16, 'X[6] <= 333.0\\ngini = 0.294\\nsamples = 67\\nvalue = [55, 12]'),\n",
       " Text(255.58392857142857, 163.07999999999998, 'X[3] <= 1.5\\ngini = 0.401\\nsamples = 36\\nvalue = [26, 10]'),\n",
       " Text(245.12142857142857, 151.0, 'X[6] <= 92.0\\ngini = 0.302\\nsamples = 27\\nvalue = [22, 5]'),\n",
       " Text(239.14285714285714, 138.92000000000002, 'X[4] <= 32.25\\ngini = 0.18\\nsamples = 20\\nvalue = [18, 2]'),\n",
       " Text(236.15357142857144, 126.84, 'X[6] <= 19.0\\ngini = 0.346\\nsamples = 9\\nvalue = [7, 2]'),\n",
       " Text(233.1642857142857, 114.75999999999999, 'gini = 0.0\\nsamples = 1\\nvalue = [0, 1]'),\n",
       " Text(239.14285714285714, 114.75999999999999, 'X[0] <= 452.5\\ngini = 0.219\\nsamples = 8\\nvalue = [7, 1]'),\n",
       " Text(236.15357142857144, 102.67999999999999, 'X[0] <= 359.5\\ngini = 0.375\\nsamples = 4\\nvalue = [3, 1]'),\n",
       " Text(233.1642857142857, 90.6, 'gini = 0.0\\nsamples = 3\\nvalue = [3, 0]'),\n",
       " Text(239.14285714285714, 90.6, 'gini = 0.0\\nsamples = 1\\nvalue = [0, 1]'),\n",
       " Text(242.13214285714287, 102.67999999999999, 'gini = 0.0\\nsamples = 4\\nvalue = [4, 0]'),\n",
       " Text(242.13214285714287, 126.84, 'gini = 0.0\\nsamples = 11\\nvalue = [11, 0]'),\n",
       " Text(251.1, 138.92000000000002, 'X[6] <= 123.0\\ngini = 0.49\\nsamples = 7\\nvalue = [4, 3]'),\n",
       " Text(248.1107142857143, 126.84, 'gini = 0.0\\nsamples = 3\\nvalue = [0, 3]'),\n",
       " Text(254.08928571428572, 126.84, 'gini = 0.0\\nsamples = 4\\nvalue = [4, 0]'),\n",
       " Text(266.0464285714286, 151.0, 'X[4] <= 181.525\\ngini = 0.494\\nsamples = 9\\nvalue = [4, 5]'),\n",
       " Text(263.0571428571429, 138.92000000000002, 'X[2] <= 2.5\\ngini = 0.278\\nsamples = 6\\nvalue = [1, 5]'),\n",
       " Text(260.0678571428571, 126.84, 'gini = 0.0\\nsamples = 4\\nvalue = [0, 4]'),\n",
       " Text(266.0464285714286, 126.84, 'X[0] <= 222.5\\ngini = 0.5\\nsamples = 2\\nvalue = [1, 1]'),\n",
       " Text(263.0571428571429, 114.75999999999999, 'gini = 0.0\\nsamples = 1\\nvalue = [1, 0]'),\n",
       " Text(269.0357142857143, 114.75999999999999, 'gini = 0.0\\nsamples = 1\\nvalue = [0, 1]'),\n",
       " Text(269.0357142857143, 138.92000000000002, 'gini = 0.0\\nsamples = 3\\nvalue = [3, 0]'),\n",
       " Text(283.98214285714283, 163.07999999999998, 'X[0] <= 547.5\\ngini = 0.121\\nsamples = 31\\nvalue = [29, 2]'),\n",
       " Text(278.00357142857143, 151.0, 'X[6] <= 611.5\\ngini = 0.067\\nsamples = 29\\nvalue = [28, 1]'),\n",
       " Text(275.01428571428573, 138.92000000000002, 'gini = 0.0\\nsamples = 23\\nvalue = [23, 0]'),\n",
       " Text(280.99285714285713, 138.92000000000002, 'X[6] <= 612.5\\ngini = 0.278\\nsamples = 6\\nvalue = [5, 1]'),\n",
       " Text(278.00357142857143, 126.84, 'gini = 0.0\\nsamples = 1\\nvalue = [0, 1]'),\n",
       " Text(283.98214285714283, 126.84, 'gini = 0.0\\nsamples = 5\\nvalue = [5, 0]'),\n",
       " Text(289.9607142857143, 151.0, 'X[0] <= 554.0\\ngini = 0.5\\nsamples = 2\\nvalue = [1, 1]'),\n",
       " Text(286.9714285714286, 138.92000000000002, 'gini = 0.0\\nsamples = 1\\nvalue = [0, 1]'),\n",
       " Text(292.95, 138.92000000000002, 'gini = 0.0\\nsamples = 1\\nvalue = [1, 0]'),\n",
       " Text(318.3589285714286, 175.16, 'X[1] <= 1.5\\ngini = 0.498\\nsamples = 36\\nvalue = [17, 19]'),\n",
       " Text(307.8964285714286, 163.07999999999998, 'X[0] <= 693.0\\ngini = 0.444\\nsamples = 27\\nvalue = [9, 18]'),\n",
       " Text(301.91785714285714, 151.0, 'X[0] <= 604.0\\ngini = 0.245\\nsamples = 14\\nvalue = [2, 12]'),\n",
       " Text(298.92857142857144, 138.92000000000002, 'X[6] <= 71.0\\ngini = 0.5\\nsamples = 4\\nvalue = [2, 2]'),\n",
       " Text(295.93928571428575, 126.84, 'gini = 0.0\\nsamples = 2\\nvalue = [2, 0]'),\n",
       " Text(301.91785714285714, 126.84, 'gini = 0.0\\nsamples = 2\\nvalue = [0, 2]'),\n",
       " Text(304.90714285714284, 138.92000000000002, 'gini = 0.0\\nsamples = 10\\nvalue = [0, 10]'),\n",
       " Text(313.875, 151.0, 'X[6] <= 585.0\\ngini = 0.497\\nsamples = 13\\nvalue = [7, 6]'),\n",
       " Text(310.8857142857143, 138.92000000000002, 'X[0] <= 700.5\\ngini = 0.48\\nsamples = 10\\nvalue = [4, 6]'),\n",
       " Text(307.8964285714286, 126.84, 'gini = 0.0\\nsamples = 2\\nvalue = [2, 0]'),\n",
       " Text(313.875, 126.84, 'X[6] <= 44.0\\ngini = 0.375\\nsamples = 8\\nvalue = [2, 6]'),\n",
       " Text(310.8857142857143, 114.75999999999999, 'X[0] <= 820.5\\ngini = 0.5\\nsamples = 4\\nvalue = [2, 2]'),\n",
       " Text(307.8964285714286, 102.67999999999999, 'gini = 0.0\\nsamples = 2\\nvalue = [2, 0]'),\n",
       " Text(313.875, 102.67999999999999, 'gini = 0.0\\nsamples = 2\\nvalue = [0, 2]'),\n",
       " Text(316.8642857142857, 114.75999999999999, 'gini = 0.0\\nsamples = 4\\nvalue = [0, 4]'),\n",
       " Text(316.8642857142857, 138.92000000000002, 'gini = 0.0\\nsamples = 3\\nvalue = [3, 0]'),\n",
       " Text(328.82142857142856, 163.07999999999998, 'X[6] <= 164.5\\ngini = 0.198\\nsamples = 9\\nvalue = [8, 1]'),\n",
       " Text(325.83214285714286, 151.0, 'X[0] <= 833.0\\ngini = 0.5\\nsamples = 2\\nvalue = [1, 1]'),\n",
       " Text(322.84285714285716, 138.92000000000002, 'gini = 0.0\\nsamples = 1\\nvalue = [1, 0]'),\n",
       " Text(328.82142857142856, 138.92000000000002, 'gini = 0.0\\nsamples = 1\\nvalue = [0, 1]'),\n",
       " Text(331.8107142857143, 151.0, 'gini = 0.0\\nsamples = 7\\nvalue = [7, 0]')]"
      ]
     },
     "execution_count": 22,
     "metadata": {},
     "output_type": "execute_result"
    },
    {
     "data": {
      "image/png": "[encoded data removed]",
      "text/plain": [
       "<Figure size 432x288 with 1 Axes>"
      ]
     },
     "metadata": {
      "needs_background": "light"
     },
     "output_type": "display_data"
    }
   ],
   "source": [
    "tree.plot_tree(dt1)"
   ]
  },
  {
   "cell_type": "code",
   "execution_count": 23,
   "metadata": {},
   "outputs": [
    {
     "data": {
      "text/plain": [
       "17"
      ]
     },
     "execution_count": 23,
     "metadata": {},
     "output_type": "execute_result"
    }
   ],
   "source": [
    "dt1.get_depth()"
   ]
  },
  {
   "cell_type": "code",
   "execution_count": 24,
   "metadata": {},
   "outputs": [],
   "source": [
    "dt2 = DecisionTreeClassifier(max_depth = 12)"
   ]
  },
  {
   "cell_type": "code",
   "execution_count": 25,
   "metadata": {},
   "outputs": [
    {
     "name": "stdout",
     "output_type": "stream",
     "text": [
      "              precision    recall  f1-score   support\n",
      "\n",
      "           0       0.80      0.88      0.83       153\n",
      "           1       0.81      0.70      0.75       115\n",
      "\n",
      "    accuracy                           0.80       268\n",
      "   macro avg       0.80      0.79      0.79       268\n",
      "weighted avg       0.80      0.80      0.80       268\n",
      "\n"
     ]
    },
    {
     "data": {
      "text/plain": [
       "DecisionTreeClassifier(ccp_alpha=0.0, class_weight=None, criterion='gini',\n",
       "                       max_depth=12, max_features=None, max_leaf_nodes=None,\n",
       "                       min_impurity_decrease=0.0, min_impurity_split=None,\n",
       "                       min_samples_leaf=1, min_samples_split=2,\n",
       "                       min_weight_fraction_leaf=0.0, presort='deprecated',\n",
       "                       random_state=None, splitter='best')"
      ]
     },
     "execution_count": 25,
     "metadata": {},
     "output_type": "execute_result"
    }
   ],
   "source": [
    "train_model(dt2)"
   ]
  },
  {
   "cell_type": "code",
   "execution_count": null,
   "metadata": {},
   "outputs": [],
   "source": []
  },
  {
   "cell_type": "code",
   "execution_count": 26,
   "metadata": {},
   "outputs": [
    {
     "name": "stdout",
     "output_type": "stream",
     "text": [
      "              precision    recall  f1-score   support\n",
      "\n",
      "           0       0.76      0.84      0.80       153\n",
      "           1       0.75      0.64      0.69       115\n",
      "\n",
      "    accuracy                           0.75       268\n",
      "   macro avg       0.75      0.74      0.74       268\n",
      "weighted avg       0.75      0.75      0.75       268\n",
      "\n"
     ]
    },
    {
     "data": {
      "text/plain": [
       "DecisionTreeClassifier(ccp_alpha=0.0, class_weight=None, criterion='gini',\n",
       "                       max_depth=None, max_features=None, max_leaf_nodes=None,\n",
       "                       min_impurity_decrease=0.0, min_impurity_split=None,\n",
       "                       min_samples_leaf=35, min_samples_split=2,\n",
       "                       min_weight_fraction_leaf=0.0, presort='deprecated',\n",
       "                       random_state=None, splitter='best')"
      ]
     },
     "execution_count": 26,
     "metadata": {},
     "output_type": "execute_result"
    }
   ],
   "source": [
    "dt3 = DecisionTreeClassifier(min_samples_leaf = 35)\n",
    "train_model(dt3)"
   ]
  },
  {
   "cell_type": "code",
   "execution_count": 27,
   "metadata": {},
   "outputs": [
    {
     "name": "stdout",
     "output_type": "stream",
     "text": [
      "              precision    recall  f1-score   support\n",
      "\n",
      "           0       0.76      0.84      0.80       153\n",
      "           1       0.75      0.64      0.69       115\n",
      "\n",
      "    accuracy                           0.75       268\n",
      "   macro avg       0.75      0.74      0.74       268\n",
      "weighted avg       0.75      0.75      0.75       268\n",
      "\n"
     ]
    },
    {
     "data": {
      "text/plain": [
       "DecisionTreeClassifier(ccp_alpha=0.0, class_weight=None, criterion='entropy',\n",
       "                       max_depth=None, max_features=None, max_leaf_nodes=None,\n",
       "                       min_impurity_decrease=0.0, min_impurity_split=None,\n",
       "                       min_samples_leaf=1, min_samples_split=2,\n",
       "                       min_weight_fraction_leaf=0.0, presort='deprecated',\n",
       "                       random_state=None, splitter='best')"
      ]
     },
     "execution_count": 27,
     "metadata": {},
     "output_type": "execute_result"
    }
   ],
   "source": [
    "dt4 = DecisionTreeClassifier(criterion = 'entropy')\n",
    "train_model(dt4)"
   ]
  },
  {
   "cell_type": "code",
   "execution_count": null,
   "metadata": {},
   "outputs": [],
   "source": []
  }
 ],
 "metadata": {
  "kernelspec": {
   "display_name": "Python 3",
   "language": "python",
   "name": "python3"
  },
  "language_info": {
   "codemirror_mode": {
    "name": "ipython",
    "version": 3
   },
   "file_extension": ".py",
   "mimetype": "text/x-python",
   "name": "python",
   "nbconvert_exporter": "python",
   "pygments_lexer": "ipython3",
   "version": "3.7.6"
  }
 },
 "nbformat": 4,
 "nbformat_minor": 4
}
